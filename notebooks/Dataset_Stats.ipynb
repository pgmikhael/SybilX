{
 "cells": [
  {
   "cell_type": "code",
   "execution_count": 59,
   "id": "5a4cd443",
   "metadata": {},
   "outputs": [],
   "source": [
    "import os\n",
    "import json\n",
    "import numpy as np\n",
    "import pandas as pd\n",
    "import matplotlib.pyplot as plt\n",
    "from pathlib import Path\n",
    "from tqdm import tqdm\n",
    "from collections import Counter\n",
    "import pydicom\n",
    "import exifread"
   ]
  },
  {
   "cell_type": "code",
   "execution_count": 60,
   "id": "60ae1abf",
   "metadata": {},
   "outputs": [],
   "source": [
    "#age, race, sex, machine/manufacturer, smoking, pack-years, days to death/cancer, cancer, "
   ]
  },
  {
   "cell_type": "markdown",
   "id": "51780f2e",
   "metadata": {},
   "source": [
    "# Load Data\n",
    "## PLCO"
   ]
  },
  {
   "cell_type": "code",
   "execution_count": 61,
   "id": "2e83a12f",
   "metadata": {},
   "outputs": [],
   "source": [
    "DATASET_PATH = '/Mounts/rbg-storage1/datasets/PLCO_XRAY/metadata_2022_03_05.json'\n",
    "metadata = json.load(open(DATASET_PATH, 'r'))"
   ]
  },
  {
   "cell_type": "code",
   "execution_count": 62,
   "id": "c3c8c500",
   "metadata": {},
   "outputs": [
    {
     "data": {
      "text/html": [
       "<div>\n",
       "<style scoped>\n",
       "    .dataframe tbody tr th:only-of-type {\n",
       "        vertical-align: middle;\n",
       "    }\n",
       "\n",
       "    .dataframe tbody tr th {\n",
       "        vertical-align: top;\n",
       "    }\n",
       "\n",
       "    .dataframe thead th {\n",
       "        text-align: right;\n",
       "    }\n",
       "</style>\n",
       "<table border=\"1\" class=\"dataframe\">\n",
       "  <thead>\n",
       "    <tr style=\"text-align: right;\">\n",
       "      <th></th>\n",
       "      <th>pid</th>\n",
       "      <th>exam</th>\n",
       "      <th>filename</th>\n",
       "      <th>start_age</th>\n",
       "      <th>gender</th>\n",
       "      <th>race</th>\n",
       "      <th>is_smoker</th>\n",
       "      <th>pack_years</th>\n",
       "      <th>is_cancer</th>\n",
       "      <th>lung_cancer_diagnosis_days</th>\n",
       "      <th>followup_days</th>\n",
       "      <th>study_yr</th>\n",
       "      <th>software</th>\n",
       "      <th>width</th>\n",
       "      <th>height</th>\n",
       "      <th>dataset</th>\n",
       "    </tr>\n",
       "  </thead>\n",
       "  <tbody>\n",
       "    <tr>\n",
       "      <th>0</th>\n",
       "      <td>T-083431-8</td>\n",
       "      <td>8408343180</td>\n",
       "      <td>AI02934081407133557_v2.tif</td>\n",
       "      <td>67.0</td>\n",
       "      <td>2</td>\n",
       "      <td>White</td>\n",
       "      <td>2.0</td>\n",
       "      <td>30.0</td>\n",
       "      <td>0</td>\n",
       "      <td>-1.0</td>\n",
       "      <td>5224</td>\n",
       "      <td>0</td>\n",
       "      <td>RiverainMedicl</td>\n",
       "      <td>2095</td>\n",
       "      <td>2538</td>\n",
       "      <td>PLCO</td>\n",
       "    </tr>\n",
       "    <tr>\n",
       "      <th>1</th>\n",
       "      <td>T-083431-8</td>\n",
       "      <td>8408343182</td>\n",
       "      <td>AI02934081407133916_v2.tif</td>\n",
       "      <td>67.0</td>\n",
       "      <td>2</td>\n",
       "      <td>White</td>\n",
       "      <td>2.0</td>\n",
       "      <td>30.0</td>\n",
       "      <td>0</td>\n",
       "      <td>-1.0</td>\n",
       "      <td>5224</td>\n",
       "      <td>2</td>\n",
       "      <td>RiverainMedicl</td>\n",
       "      <td>2093</td>\n",
       "      <td>2537</td>\n",
       "      <td>PLCO</td>\n",
       "    </tr>\n",
       "    <tr>\n",
       "      <th>2</th>\n",
       "      <td>T-083431-8</td>\n",
       "      <td>8408343183</td>\n",
       "      <td>AI02934081407134032_v2.tif</td>\n",
       "      <td>67.0</td>\n",
       "      <td>2</td>\n",
       "      <td>White</td>\n",
       "      <td>2.0</td>\n",
       "      <td>30.0</td>\n",
       "      <td>0</td>\n",
       "      <td>-1.0</td>\n",
       "      <td>5224</td>\n",
       "      <td>3</td>\n",
       "      <td>RiverainMedicl</td>\n",
       "      <td>2089</td>\n",
       "      <td>2540</td>\n",
       "      <td>PLCO</td>\n",
       "    </tr>\n",
       "    <tr>\n",
       "      <th>3</th>\n",
       "      <td>T-083431-8</td>\n",
       "      <td>8408343181</td>\n",
       "      <td>AI02934081407133724_v2.tif</td>\n",
       "      <td>67.0</td>\n",
       "      <td>2</td>\n",
       "      <td>White</td>\n",
       "      <td>2.0</td>\n",
       "      <td>30.0</td>\n",
       "      <td>0</td>\n",
       "      <td>-1.0</td>\n",
       "      <td>5224</td>\n",
       "      <td>1</td>\n",
       "      <td>RiverainMedicl</td>\n",
       "      <td>2095</td>\n",
       "      <td>2538</td>\n",
       "      <td>PLCO</td>\n",
       "    </tr>\n",
       "    <tr>\n",
       "      <th>4</th>\n",
       "      <td>Y-086037-1</td>\n",
       "      <td>8908603712</td>\n",
       "      <td>AC01367021006152811_v2.tif</td>\n",
       "      <td>63.0</td>\n",
       "      <td>2</td>\n",
       "      <td>White</td>\n",
       "      <td>2.0</td>\n",
       "      <td>44.0</td>\n",
       "      <td>1</td>\n",
       "      <td>872.0</td>\n",
       "      <td>872</td>\n",
       "      <td>2</td>\n",
       "      <td>RiverainMedicl</td>\n",
       "      <td>2094</td>\n",
       "      <td>2541</td>\n",
       "      <td>PLCO</td>\n",
       "    </tr>\n",
       "    <tr>\n",
       "      <th>...</th>\n",
       "      <td>...</td>\n",
       "      <td>...</td>\n",
       "      <td>...</td>\n",
       "      <td>...</td>\n",
       "      <td>...</td>\n",
       "      <td>...</td>\n",
       "      <td>...</td>\n",
       "      <td>...</td>\n",
       "      <td>...</td>\n",
       "      <td>...</td>\n",
       "      <td>...</td>\n",
       "      <td>...</td>\n",
       "      <td>...</td>\n",
       "      <td>...</td>\n",
       "      <td>...</td>\n",
       "      <td>...</td>\n",
       "    </tr>\n",
       "    <tr>\n",
       "      <th>89711</th>\n",
       "      <td>T-032473-1</td>\n",
       "      <td>8403247310</td>\n",
       "      <td>AJ06916110206120921_v2.tif</td>\n",
       "      <td>68.0</td>\n",
       "      <td>1</td>\n",
       "      <td>White</td>\n",
       "      <td>2.0</td>\n",
       "      <td>24.0</td>\n",
       "      <td>0</td>\n",
       "      <td>-1.0</td>\n",
       "      <td>160</td>\n",
       "      <td>0</td>\n",
       "      <td>RiverainMedicl</td>\n",
       "      <td>2088</td>\n",
       "      <td>2542</td>\n",
       "      <td>PLCO</td>\n",
       "    </tr>\n",
       "    <tr>\n",
       "      <th>89712</th>\n",
       "      <td>U-005771-2</td>\n",
       "      <td>8500577120</td>\n",
       "      <td>AF0590773107100124_v2.tif</td>\n",
       "      <td>70.0</td>\n",
       "      <td>1</td>\n",
       "      <td>White</td>\n",
       "      <td>2.0</td>\n",
       "      <td>76.0</td>\n",
       "      <td>0</td>\n",
       "      <td>-1.0</td>\n",
       "      <td>2824</td>\n",
       "      <td>0</td>\n",
       "      <td>RiverainMedicl</td>\n",
       "      <td>2095</td>\n",
       "      <td>2543</td>\n",
       "      <td>PLCO</td>\n",
       "    </tr>\n",
       "    <tr>\n",
       "      <th>89713</th>\n",
       "      <td>N-085998-6</td>\n",
       "      <td>7808599860</td>\n",
       "      <td>AG06296080907113637_v2.tif</td>\n",
       "      <td>74.0</td>\n",
       "      <td>2</td>\n",
       "      <td>White</td>\n",
       "      <td>0.0</td>\n",
       "      <td>0.0</td>\n",
       "      <td>0</td>\n",
       "      <td>-1.0</td>\n",
       "      <td>349</td>\n",
       "      <td>0</td>\n",
       "      <td>RiverainMedicl</td>\n",
       "      <td>2093</td>\n",
       "      <td>2541</td>\n",
       "      <td>PLCO</td>\n",
       "    </tr>\n",
       "    <tr>\n",
       "      <th>89714</th>\n",
       "      <td>G-036878-9</td>\n",
       "      <td>7103687890</td>\n",
       "      <td>AC01397062306135648_v2.tif</td>\n",
       "      <td>72.0</td>\n",
       "      <td>2</td>\n",
       "      <td>White</td>\n",
       "      <td>0.0</td>\n",
       "      <td>0.0</td>\n",
       "      <td>0</td>\n",
       "      <td>-1.0</td>\n",
       "      <td>3542</td>\n",
       "      <td>0</td>\n",
       "      <td>RiverainMedicl</td>\n",
       "      <td>2094</td>\n",
       "      <td>2542</td>\n",
       "      <td>PLCO</td>\n",
       "    </tr>\n",
       "    <tr>\n",
       "      <th>89715</th>\n",
       "      <td>V-115923-6</td>\n",
       "      <td>8611592362</td>\n",
       "      <td>AH05379031706121403_v2.tif</td>\n",
       "      <td>59.0</td>\n",
       "      <td>2</td>\n",
       "      <td>Hispanic</td>\n",
       "      <td>0.0</td>\n",
       "      <td>0.0</td>\n",
       "      <td>0</td>\n",
       "      <td>-1.0</td>\n",
       "      <td>3552</td>\n",
       "      <td>2</td>\n",
       "      <td>RiverainMedicl</td>\n",
       "      <td>2095</td>\n",
       "      <td>2539</td>\n",
       "      <td>PLCO</td>\n",
       "    </tr>\n",
       "  </tbody>\n",
       "</table>\n",
       "<p>89716 rows × 16 columns</p>\n",
       "</div>"
      ],
      "text/plain": [
       "              pid        exam                    filename  start_age  gender  \\\n",
       "0      T-083431-8  8408343180  AI02934081407133557_v2.tif       67.0       2   \n",
       "1      T-083431-8  8408343182  AI02934081407133916_v2.tif       67.0       2   \n",
       "2      T-083431-8  8408343183  AI02934081407134032_v2.tif       67.0       2   \n",
       "3      T-083431-8  8408343181  AI02934081407133724_v2.tif       67.0       2   \n",
       "4      Y-086037-1  8908603712  AC01367021006152811_v2.tif       63.0       2   \n",
       "...           ...         ...                         ...        ...     ...   \n",
       "89711  T-032473-1  8403247310  AJ06916110206120921_v2.tif       68.0       1   \n",
       "89712  U-005771-2  8500577120   AF0590773107100124_v2.tif       70.0       1   \n",
       "89713  N-085998-6  7808599860  AG06296080907113637_v2.tif       74.0       2   \n",
       "89714  G-036878-9  7103687890  AC01397062306135648_v2.tif       72.0       2   \n",
       "89715  V-115923-6  8611592362  AH05379031706121403_v2.tif       59.0       2   \n",
       "\n",
       "           race  is_smoker  pack_years  is_cancer  lung_cancer_diagnosis_days  \\\n",
       "0         White        2.0        30.0          0                        -1.0   \n",
       "1         White        2.0        30.0          0                        -1.0   \n",
       "2         White        2.0        30.0          0                        -1.0   \n",
       "3         White        2.0        30.0          0                        -1.0   \n",
       "4         White        2.0        44.0          1                       872.0   \n",
       "...         ...        ...         ...        ...                         ...   \n",
       "89711     White        2.0        24.0          0                        -1.0   \n",
       "89712     White        2.0        76.0          0                        -1.0   \n",
       "89713     White        0.0         0.0          0                        -1.0   \n",
       "89714     White        0.0         0.0          0                        -1.0   \n",
       "89715  Hispanic        0.0         0.0          0                        -1.0   \n",
       "\n",
       "       followup_days  study_yr        software  width  height dataset  \n",
       "0               5224         0  RiverainMedicl   2095    2538    PLCO  \n",
       "1               5224         2  RiverainMedicl   2093    2537    PLCO  \n",
       "2               5224         3  RiverainMedicl   2089    2540    PLCO  \n",
       "3               5224         1  RiverainMedicl   2095    2538    PLCO  \n",
       "4                872         2  RiverainMedicl   2094    2541    PLCO  \n",
       "...              ...       ...             ...    ...     ...     ...  \n",
       "89711            160         0  RiverainMedicl   2088    2542    PLCO  \n",
       "89712           2824         0  RiverainMedicl   2095    2543    PLCO  \n",
       "89713            349         0  RiverainMedicl   2093    2541    PLCO  \n",
       "89714           3542         0  RiverainMedicl   2094    2542    PLCO  \n",
       "89715           3552         2  RiverainMedicl   2095    2539    PLCO  \n",
       "\n",
       "[89716 rows x 16 columns]"
      ]
     },
     "execution_count": 62,
     "metadata": {},
     "output_type": "execute_result"
    }
   ],
   "source": [
    "RACE_ID_KEYS = {\n",
    "    1: \"White\",\n",
    "    2: \"Black\",\n",
    "    3: \"Hispanic\",\n",
    "    4: \"Asian\",\n",
    "    6: \"Pacific Islander\",\n",
    "    6: \"American Indian\",\n",
    "    7: \"Missing\",\n",
    "}\n",
    "\n",
    "df = []\n",
    "for p in metadata:\n",
    "    pid = p['pid']\n",
    "    \n",
    "    pt_metadata = p['pt_metadata']\n",
    "    \n",
    "    gender = pt_metadata['sex']\n",
    "    start_age = pt_metadata['bq_age']\n",
    "    race = RACE_ID_KEYS.get(pt_metadata['race7'], 'Missing')\n",
    "    is_smoker = pt_metadata['cig_stat']\n",
    "    pack_years = pt_metadata['pack_years']\n",
    "    \n",
    "    lunc_cancer_diagnosis_days = pt_metadata['lung_cancer_diagdays']\n",
    "    followup_days = pt_metadata['lung_exitdays']\n",
    "    is_cancer = pt_metadata['lung_cancer']\n",
    "    \n",
    "    for e in p['accessions']:\n",
    "        study_yr = e['study_yr']\n",
    "        \n",
    "        pid_int = int( str(ord(pid[0])) + ''.join(c for c in pid if c.isdigit()) )\n",
    "        exam_int = int(f\"{int(pid_int)}{int(study_yr)}\")\n",
    "        \n",
    "        \n",
    "        for s in e['image_series']:\n",
    "            filename = s['filename']\n",
    "            software = s['Image Software']\n",
    "            w = s['Image ImageWidth']\n",
    "            h = s['Image ImageLength']\n",
    "            \n",
    "            df.append({\n",
    "                'pid': pid,\n",
    "                'exam': exam_int,\n",
    "                'filename': filename,\n",
    "                'start_age': start_age,\n",
    "                'gender': gender,\n",
    "                'race': race,\n",
    "                'is_smoker': is_smoker,\n",
    "                'pack_years': pack_years,\n",
    "                'is_cancer': is_cancer,\n",
    "                'lung_cancer_diagnosis_days': lunc_cancer_diagnosis_days,\n",
    "                'followup_days': followup_days,\n",
    "                'study_yr': study_yr,\n",
    "                'software': software,\n",
    "                'width': w,\n",
    "                'height': h\n",
    "            })\n",
    "        \n",
    "df = pd.DataFrame(df)\n",
    "df['dataset'] = 'PLCO'\n",
    "df"
   ]
  },
  {
   "cell_type": "markdown",
   "id": "1f80ed74",
   "metadata": {},
   "source": [
    "# NLST X-Ray"
   ]
  },
  {
   "cell_type": "code",
   "execution_count": 14,
   "id": "d4e23405",
   "metadata": {},
   "outputs": [],
   "source": [
    "DATASET_PATH = '/Mounts/rbg-storage1/datasets/ACRIN_XRAY/xray_dataset.json'\n",
    "metadata = json.load(open(DATASET_PATH, 'r'))"
   ]
  },
  {
   "cell_type": "code",
   "execution_count": 15,
   "id": "ca026557",
   "metadata": {},
   "outputs": [
    {
     "name": "stderr",
     "output_type": "stream",
     "text": [
      "  1%|█▋                                                                                                                                                                   | 58/5491 [00:06<10:12,  8.87it/s]/Mounts/rbg-storage1/users/ludvig/miniforge3/envs/datascience/lib/python3.9/site-packages/pydicom/charset.py:732: UserWarning: Incorrect value for Specific Character Set 'ISO_2022_IR_6' - assuming 'ISO 2022 IR 6'\n",
      "  _warn_about_invalid_encoding(encoding, patched)\n",
      "100%|███████████████████████████████████████████████████████████████████████████████████████████████████████████████████████████████████████████████████████████████████| 5491/5491 [19:00<00:00,  4.81it/s]\n"
     ]
    },
    {
     "data": {
      "text/html": [
       "<div>\n",
       "<style scoped>\n",
       "    .dataframe tbody tr th:only-of-type {\n",
       "        vertical-align: middle;\n",
       "    }\n",
       "\n",
       "    .dataframe tbody tr th {\n",
       "        vertical-align: top;\n",
       "    }\n",
       "\n",
       "    .dataframe thead th {\n",
       "        text-align: right;\n",
       "    }\n",
       "</style>\n",
       "<table border=\"1\" class=\"dataframe\">\n",
       "  <thead>\n",
       "    <tr style=\"text-align: right;\">\n",
       "      <th></th>\n",
       "      <th>pid</th>\n",
       "      <th>exam</th>\n",
       "      <th>series</th>\n",
       "      <th>study_yr</th>\n",
       "      <th>start_age</th>\n",
       "      <th>gender</th>\n",
       "      <th>race</th>\n",
       "      <th>is_smoker</th>\n",
       "      <th>pack_years</th>\n",
       "      <th>is_cancer</th>\n",
       "      <th>lung_cancer_diagnosis_days</th>\n",
       "      <th>followup_days</th>\n",
       "      <th>manufacturer</th>\n",
       "      <th>model</th>\n",
       "      <th>width</th>\n",
       "      <th>height</th>\n",
       "      <th>dataset</th>\n",
       "    </tr>\n",
       "  </thead>\n",
       "  <tbody>\n",
       "    <tr>\n",
       "      <th>0</th>\n",
       "      <td>216290</td>\n",
       "      <td>2162902371</td>\n",
       "      <td>1.2.392.200036.9125.3.691189185206.64463256358...</td>\n",
       "      <td>2</td>\n",
       "      <td>57</td>\n",
       "      <td>2</td>\n",
       "      <td>White</td>\n",
       "      <td>0</td>\n",
       "      <td>30.0</td>\n",
       "      <td>False</td>\n",
       "      <td>-1.0</td>\n",
       "      <td>2413</td>\n",
       "      <td>FUJI PHOTO FILM Co., ltd.</td>\n",
       "      <td>5501ES</td>\n",
       "      <td>1760</td>\n",
       "      <td>2140</td>\n",
       "      <td>nlst_acrin</td>\n",
       "    </tr>\n",
       "    <tr>\n",
       "      <th>1</th>\n",
       "      <td>216290</td>\n",
       "      <td>2162902370</td>\n",
       "      <td>1.2.392.200036.9125.3.691189185206.64463256358...</td>\n",
       "      <td>2</td>\n",
       "      <td>57</td>\n",
       "      <td>2</td>\n",
       "      <td>White</td>\n",
       "      <td>0</td>\n",
       "      <td>30.0</td>\n",
       "      <td>False</td>\n",
       "      <td>-1.0</td>\n",
       "      <td>2413</td>\n",
       "      <td>FUJI PHOTO FILM Co., ltd.</td>\n",
       "      <td>5501ES</td>\n",
       "      <td>1760</td>\n",
       "      <td>2140</td>\n",
       "      <td>nlst_acrin</td>\n",
       "    </tr>\n",
       "    <tr>\n",
       "      <th>2</th>\n",
       "      <td>216290</td>\n",
       "      <td>2162900512</td>\n",
       "      <td>1.2.392.200036.9125.3.1.14482155.11317.512</td>\n",
       "      <td>2</td>\n",
       "      <td>57</td>\n",
       "      <td>2</td>\n",
       "      <td>White</td>\n",
       "      <td>0</td>\n",
       "      <td>30.0</td>\n",
       "      <td>False</td>\n",
       "      <td>-1.0</td>\n",
       "      <td>2413</td>\n",
       "      <td>FUJI PHOTO FILM Co., ltd.</td>\n",
       "      <td>5501ES</td>\n",
       "      <td>1760</td>\n",
       "      <td>2140</td>\n",
       "      <td>nlst_acrin</td>\n",
       "    </tr>\n",
       "    <tr>\n",
       "      <th>3</th>\n",
       "      <td>216290</td>\n",
       "      <td>2162900512</td>\n",
       "      <td>1.2.392.200036.9125.3.1.14482155.11317.512</td>\n",
       "      <td>2</td>\n",
       "      <td>57</td>\n",
       "      <td>2</td>\n",
       "      <td>White</td>\n",
       "      <td>0</td>\n",
       "      <td>30.0</td>\n",
       "      <td>False</td>\n",
       "      <td>-1.0</td>\n",
       "      <td>2413</td>\n",
       "      <td>FUJI PHOTO FILM Co., ltd.</td>\n",
       "      <td>5501ES</td>\n",
       "      <td>1760</td>\n",
       "      <td>2140</td>\n",
       "      <td>nlst_acrin</td>\n",
       "    </tr>\n",
       "    <tr>\n",
       "      <th>4</th>\n",
       "      <td>216290</td>\n",
       "      <td>2162901512</td>\n",
       "      <td>1.2.392.200036.9125.3.1.15332690.11317.512</td>\n",
       "      <td>2</td>\n",
       "      <td>57</td>\n",
       "      <td>2</td>\n",
       "      <td>White</td>\n",
       "      <td>0</td>\n",
       "      <td>30.0</td>\n",
       "      <td>False</td>\n",
       "      <td>-1.0</td>\n",
       "      <td>2413</td>\n",
       "      <td>FUJI PHOTO FILM Co., ltd.</td>\n",
       "      <td>5501ES</td>\n",
       "      <td>1760</td>\n",
       "      <td>2140</td>\n",
       "      <td>nlst_acrin</td>\n",
       "    </tr>\n",
       "    <tr>\n",
       "      <th>...</th>\n",
       "      <td>...</td>\n",
       "      <td>...</td>\n",
       "      <td>...</td>\n",
       "      <td>...</td>\n",
       "      <td>...</td>\n",
       "      <td>...</td>\n",
       "      <td>...</td>\n",
       "      <td>...</td>\n",
       "      <td>...</td>\n",
       "      <td>...</td>\n",
       "      <td>...</td>\n",
       "      <td>...</td>\n",
       "      <td>...</td>\n",
       "      <td>...</td>\n",
       "      <td>...</td>\n",
       "      <td>...</td>\n",
       "      <td>...</td>\n",
       "    </tr>\n",
       "    <tr>\n",
       "      <th>19856</th>\n",
       "      <td>205665</td>\n",
       "      <td>20566513</td>\n",
       "      <td>1.2.840.113619.2.67.2164109270.279204100511311...</td>\n",
       "      <td>2</td>\n",
       "      <td>61</td>\n",
       "      <td>1</td>\n",
       "      <td>White</td>\n",
       "      <td>0</td>\n",
       "      <td>80.0</td>\n",
       "      <td>False</td>\n",
       "      <td>-1.0</td>\n",
       "      <td>2333</td>\n",
       "      <td>GE MEDICAL SYSTEMS</td>\n",
       "      <td>ADS_1.0</td>\n",
       "      <td>2022</td>\n",
       "      <td>1736</td>\n",
       "      <td>nlst_acrin</td>\n",
       "    </tr>\n",
       "    <tr>\n",
       "      <th>19857</th>\n",
       "      <td>205665</td>\n",
       "      <td>20566513</td>\n",
       "      <td>1.2.840.113619.2.67.2164109270.279204100511311...</td>\n",
       "      <td>2</td>\n",
       "      <td>61</td>\n",
       "      <td>1</td>\n",
       "      <td>White</td>\n",
       "      <td>0</td>\n",
       "      <td>80.0</td>\n",
       "      <td>False</td>\n",
       "      <td>-1.0</td>\n",
       "      <td>2333</td>\n",
       "      <td>GE MEDICAL SYSTEMS</td>\n",
       "      <td>ADS_1.0</td>\n",
       "      <td>1750</td>\n",
       "      <td>1946</td>\n",
       "      <td>nlst_acrin</td>\n",
       "    </tr>\n",
       "    <tr>\n",
       "      <th>19858</th>\n",
       "      <td>205665</td>\n",
       "      <td>20566513</td>\n",
       "      <td>1.2.840.113619.2.67.2164109270.279204100511311...</td>\n",
       "      <td>2</td>\n",
       "      <td>61</td>\n",
       "      <td>1</td>\n",
       "      <td>White</td>\n",
       "      <td>0</td>\n",
       "      <td>80.0</td>\n",
       "      <td>False</td>\n",
       "      <td>-1.0</td>\n",
       "      <td>2333</td>\n",
       "      <td>GE MEDICAL SYSTEMS</td>\n",
       "      <td>ADS_1.0</td>\n",
       "      <td>2022</td>\n",
       "      <td>1736</td>\n",
       "      <td>nlst_acrin</td>\n",
       "    </tr>\n",
       "    <tr>\n",
       "      <th>19859</th>\n",
       "      <td>204562</td>\n",
       "      <td>20456201</td>\n",
       "      <td>1.2.840.113619.2.67.2164156847.227870312301056...</td>\n",
       "      <td>2</td>\n",
       "      <td>59</td>\n",
       "      <td>1</td>\n",
       "      <td>White</td>\n",
       "      <td>1</td>\n",
       "      <td>120.0</td>\n",
       "      <td>True</td>\n",
       "      <td>-1.0</td>\n",
       "      <td>128</td>\n",
       "      <td>GE MEDICAL SYSTEMS</td>\n",
       "      <td>Revolution XQi ADS_19.16.1</td>\n",
       "      <td>2022</td>\n",
       "      <td>2022</td>\n",
       "      <td>nlst_acrin</td>\n",
       "    </tr>\n",
       "    <tr>\n",
       "      <th>19860</th>\n",
       "      <td>208477</td>\n",
       "      <td>2084770150</td>\n",
       "      <td>1.3.12.2.1107.5.4.4.0.2.0.1623321818552150</td>\n",
       "      <td>2</td>\n",
       "      <td>60</td>\n",
       "      <td>1</td>\n",
       "      <td>White</td>\n",
       "      <td>0</td>\n",
       "      <td>55.5</td>\n",
       "      <td>False</td>\n",
       "      <td>-1.0</td>\n",
       "      <td>2552</td>\n",
       "      <td>SIEMENS</td>\n",
       "      <td>SIEMENS FD-X</td>\n",
       "      <td>2988</td>\n",
       "      <td>2991</td>\n",
       "      <td>nlst_acrin</td>\n",
       "    </tr>\n",
       "  </tbody>\n",
       "</table>\n",
       "<p>19861 rows × 17 columns</p>\n",
       "</div>"
      ],
      "text/plain": [
       "          pid        exam                                             series  \\\n",
       "0      216290  2162902371  1.2.392.200036.9125.3.691189185206.64463256358...   \n",
       "1      216290  2162902370  1.2.392.200036.9125.3.691189185206.64463256358...   \n",
       "2      216290  2162900512         1.2.392.200036.9125.3.1.14482155.11317.512   \n",
       "3      216290  2162900512         1.2.392.200036.9125.3.1.14482155.11317.512   \n",
       "4      216290  2162901512         1.2.392.200036.9125.3.1.15332690.11317.512   \n",
       "...       ...         ...                                                ...   \n",
       "19856  205665    20566513  1.2.840.113619.2.67.2164109270.279204100511311...   \n",
       "19857  205665    20566513  1.2.840.113619.2.67.2164109270.279204100511311...   \n",
       "19858  205665    20566513  1.2.840.113619.2.67.2164109270.279204100511311...   \n",
       "19859  204562    20456201  1.2.840.113619.2.67.2164156847.227870312301056...   \n",
       "19860  208477  2084770150         1.3.12.2.1107.5.4.4.0.2.0.1623321818552150   \n",
       "\n",
       "       study_yr  start_age  gender   race  is_smoker  pack_years  is_cancer  \\\n",
       "0             2         57       2  White          0        30.0      False   \n",
       "1             2         57       2  White          0        30.0      False   \n",
       "2             2         57       2  White          0        30.0      False   \n",
       "3             2         57       2  White          0        30.0      False   \n",
       "4             2         57       2  White          0        30.0      False   \n",
       "...         ...        ...     ...    ...        ...         ...        ...   \n",
       "19856         2         61       1  White          0        80.0      False   \n",
       "19857         2         61       1  White          0        80.0      False   \n",
       "19858         2         61       1  White          0        80.0      False   \n",
       "19859         2         59       1  White          1       120.0       True   \n",
       "19860         2         60       1  White          0        55.5      False   \n",
       "\n",
       "       lung_cancer_diagnosis_days  followup_days               manufacturer  \\\n",
       "0                            -1.0           2413  FUJI PHOTO FILM Co., ltd.   \n",
       "1                            -1.0           2413  FUJI PHOTO FILM Co., ltd.   \n",
       "2                            -1.0           2413  FUJI PHOTO FILM Co., ltd.   \n",
       "3                            -1.0           2413  FUJI PHOTO FILM Co., ltd.   \n",
       "4                            -1.0           2413  FUJI PHOTO FILM Co., ltd.   \n",
       "...                           ...            ...                        ...   \n",
       "19856                        -1.0           2333         GE MEDICAL SYSTEMS   \n",
       "19857                        -1.0           2333         GE MEDICAL SYSTEMS   \n",
       "19858                        -1.0           2333         GE MEDICAL SYSTEMS   \n",
       "19859                        -1.0            128         GE MEDICAL SYSTEMS   \n",
       "19860                        -1.0           2552                    SIEMENS   \n",
       "\n",
       "                            model  width  height     dataset  \n",
       "0                          5501ES   1760    2140  nlst_acrin  \n",
       "1                          5501ES   1760    2140  nlst_acrin  \n",
       "2                          5501ES   1760    2140  nlst_acrin  \n",
       "3                          5501ES   1760    2140  nlst_acrin  \n",
       "4                          5501ES   1760    2140  nlst_acrin  \n",
       "...                           ...    ...     ...         ...  \n",
       "19856                     ADS_1.0   2022    1736  nlst_acrin  \n",
       "19857                     ADS_1.0   1750    1946  nlst_acrin  \n",
       "19858                     ADS_1.0   2022    1736  nlst_acrin  \n",
       "19859  Revolution XQi ADS_19.16.1   2022    2022  nlst_acrin  \n",
       "19860                SIEMENS FD-X   2988    2991  nlst_acrin  \n",
       "\n",
       "[19861 rows x 17 columns]"
      ]
     },
     "execution_count": 15,
     "metadata": {},
     "output_type": "execute_result"
    }
   ],
   "source": [
    "RACE_ID_KEYS = {\n",
    "    1: \"White\",\n",
    "    2: \"Black\",\n",
    "    3: \"Asian\",\n",
    "    4: \"American Indian\",\n",
    "    5: \"Native Hawaiian\",\n",
    "    6: \"Hispanic\",\n",
    "}\n",
    "\n",
    "nlst_df = []\n",
    "for p in tqdm(metadata):\n",
    "    pid = p['pid']\n",
    "    pt_metadata = p['pt_metadata']\n",
    "    \n",
    "    race = RACE_ID_KEYS.get(pt_metadata['race'][0], 'Missing')\n",
    "    \n",
    "    ethnicity = pt_metadata['ethnic'][0]\n",
    "    gender = pt_metadata['gender'][0]\n",
    "    start_age = pt_metadata['age'][0]\n",
    "    pack_years = pt_metadata['pkyr'][0]\n",
    "    is_smoker = pt_metadata['cigsmok'][0]\n",
    "    is_cancer = pt_metadata['cancyr'][0] != -1\n",
    "    followup_days = pt_metadata['fup_days'][0]\n",
    "    lung_cancer_diagnosis_days = pt_metadata['candx_days'][0] # not sure\n",
    "    \n",
    "    for e in p['accessions']:\n",
    "        screen_timepoint = e[\"screen_timepoint\"]\n",
    "        for s in e['image_series']: # seperate examno for each series???\n",
    "            #study_yr = e['study_yr']\n",
    "            series_id = s[\"series_id\"]\n",
    "\n",
    "            exam_int = int(f\"{int(pid)}{int(screen_timepoint)}{int(series_id.split('.')[-1][-3:])}\")\n",
    "            \n",
    "            dcm = pydicom.dcmread(s['path'], stop_before_pixels=True)\n",
    "            \n",
    "            manufacturer = dcm.Manufacturer\n",
    "            if 'ManufacturerModelName' in dcm:\n",
    "                model = dcm.ManufacturerModelName\n",
    "            else:\n",
    "                model = -1\n",
    "            width = dcm.Columns\n",
    "            height = dcm.Rows\n",
    "            \n",
    "            nlst_df.append({\n",
    "                'pid': pid,\n",
    "                'exam': exam_int,\n",
    "                'series': series_id,\n",
    "                'study_yr': screen_timepoint,\n",
    "                    \n",
    "                'start_age': start_age,\n",
    "                'gender': gender,\n",
    "                'race': race,\n",
    "                'is_smoker': is_smoker,\n",
    "                'pack_years': pack_years,\n",
    "                'is_cancer': is_cancer,\n",
    "                'lung_cancer_diagnosis_days': lunc_cancer_diagnosis_days,\n",
    "                'followup_days': followup_days,\n",
    "                'study_yr': study_yr,\n",
    "                'manufacturer': manufacturer,\n",
    "                'model': model,\n",
    "                'width': width,\n",
    "                'height': height\n",
    "            })\n",
    "\n",
    "nlst_df = pd.DataFrame(nlst_df)\n",
    "nlst_df['dataset'] = 'nlst_acrin'\n",
    "nlst_df"
   ]
  },
  {
   "cell_type": "markdown",
   "id": "760c3d4b",
   "metadata": {},
   "source": [
    "## Combine"
   ]
  },
  {
   "cell_type": "code",
   "execution_count": 39,
   "id": "1c044dcb",
   "metadata": {
    "scrolled": false
   },
   "outputs": [],
   "source": [
    "combined_df = pd.concat((df,nlst_df), axis=0)\n",
    "series_df = combined_df[[\n",
    "    'dataset',\n",
    "    'pid',\n",
    "    'exam',\n",
    "    'series',\n",
    "    'study_yr',\n",
    "    'manufacturer',\n",
    "    'model',\n",
    "    'software',\n",
    "    'width',\n",
    "    'height'\n",
    "]]\n",
    "patient_df = combined_df.groupby('pid').first().reset_index()[[\n",
    "    'dataset',\n",
    "    'pid',\n",
    "    'start_age',\n",
    "    'gender',\n",
    "    'race',\n",
    "    'is_smoker',\n",
    "    'pack_years',\n",
    "    'is_cancer',\n",
    "    'followup_days',\n",
    "    'lung_cancer_diagnosis_days'\n",
    "]]"
   ]
  },
  {
   "cell_type": "markdown",
   "id": "921b1e4f",
   "metadata": {},
   "source": [
    "# Stats"
   ]
  },
  {
   "cell_type": "code",
   "execution_count": 52,
   "id": "08361b14",
   "metadata": {},
   "outputs": [
    {
     "data": {
      "text/plain": [
       "5491"
      ]
     },
     "execution_count": 52,
     "metadata": {},
     "output_type": "execute_result"
    }
   ],
   "source": [
    "len(patient_df.loc[patient_df.dataset == 'nlst_acrin'])"
   ]
  },
  {
   "cell_type": "code",
   "execution_count": 53,
   "id": "e041bffd",
   "metadata": {},
   "outputs": [
    {
     "data": {
      "text/plain": [
       "25000"
      ]
     },
     "execution_count": 53,
     "metadata": {},
     "output_type": "execute_result"
    }
   ],
   "source": [
    "len(patient_df.loc[patient_df.dataset == 'PLCO'])"
   ]
  },
  {
   "cell_type": "code",
   "execution_count": 54,
   "id": "5b259da2",
   "metadata": {},
   "outputs": [
    {
     "data": {
      "text/plain": [
       "19861"
      ]
     },
     "execution_count": 54,
     "metadata": {},
     "output_type": "execute_result"
    }
   ],
   "source": [
    "len(series_df.loc[series_df.dataset == 'nlst_acrin'])"
   ]
  },
  {
   "cell_type": "code",
   "execution_count": 55,
   "id": "01eb3318",
   "metadata": {},
   "outputs": [
    {
     "data": {
      "text/plain": [
       "89716"
      ]
     },
     "execution_count": 55,
     "metadata": {},
     "output_type": "execute_result"
    }
   ],
   "source": [
    "len(series_df.loc[series_df.dataset == 'PLCO'])"
   ]
  },
  {
   "cell_type": "code",
   "execution_count": 40,
   "id": "235c31e3",
   "metadata": {},
   "outputs": [
    {
     "data": {
      "text/plain": [
       "Counter({0: 5267, 1: 224})"
      ]
     },
     "execution_count": 40,
     "metadata": {},
     "output_type": "execute_result"
    }
   ],
   "source": [
    "Counter(patient_df.loc[patient_df.dataset == 'nlst_acrin'].is_cancer)"
   ]
  },
  {
   "cell_type": "code",
   "execution_count": 41,
   "id": "e8c27fd9",
   "metadata": {},
   "outputs": [
    {
     "data": {
      "text/plain": [
       "Counter({0: 24008, 1: 992})"
      ]
     },
     "execution_count": 41,
     "metadata": {},
     "output_type": "execute_result"
    }
   ],
   "source": [
    "Counter(patient_df.loc[patient_df.dataset == 'PLCO'].is_cancer)"
   ]
  },
  {
   "cell_type": "code",
   "execution_count": 42,
   "id": "cde11209",
   "metadata": {
    "scrolled": false
   },
   "outputs": [
    {
     "data": {
      "text/plain": [
       "(array([2.000e+00, 4.185e+03, 4.147e+03, 3.288e+03, 4.296e+03, 3.603e+03,\n",
       "        2.063e+03, 2.349e+03, 1.066e+03, 1.000e+00]),\n",
       " array([51. , 53.7, 56.4, 59.1, 61.8, 64.5, 67.2, 69.9, 72.6, 75.3, 78. ]),\n",
       " <BarContainer object of 10 artists>)"
      ]
     },
     "execution_count": 42,
     "metadata": {},
     "output_type": "execute_result"
    },
    {
     "data": {
      "image/png": "[encoded data removed]",
      "text/plain": [
       "<Figure size 432x288 with 1 Axes>"
      ]
     },
     "metadata": {
      "needs_background": "light"
     },
     "output_type": "display_data"
    },
    {
     "data": {
      "image/png": "[encoded data removed]",
      "text/plain": [
       "<Figure size 432x288 with 1 Axes>"
      ]
     },
     "metadata": {
      "needs_background": "light"
     },
     "output_type": "display_data"
    }
   ],
   "source": [
    "# start age\n",
    "plt.hist(patient_df.loc[patient_df.dataset == 'nlst_acrin'].start_age)\n",
    "plt.figure()\n",
    "plt.hist(patient_df.loc[patient_df.dataset == 'PLCO'].start_age)"
   ]
  },
  {
   "cell_type": "code",
   "execution_count": 56,
   "id": "f2a901c3",
   "metadata": {},
   "outputs": [
    {
     "name": "stdout",
     "output_type": "stream",
     "text": [
      "Counter({1: 3034, 2: 2457})\n"
     ]
    },
    {
     "data": {
      "text/plain": [
       "Counter({1: 12946, 2: 12054})"
      ]
     },
     "execution_count": 56,
     "metadata": {},
     "output_type": "execute_result"
    }
   ],
   "source": [
    "# gender\n",
    "print( Counter(patient_df.loc[patient_df.dataset == 'nlst_acrin'].gender) )\n",
    "Counter(patient_df.loc[patient_df.dataset == 'PLCO'].gender)"
   ]
  },
  {
   "cell_type": "code",
   "execution_count": 63,
   "id": "9820d647",
   "metadata": {},
   "outputs": [
    {
     "name": "stdout",
     "output_type": "stream",
     "text": [
      "Counter({'White': 5151, 'Black': 222, 'Asian': 39, 'Hispanic': 36, 'Missing': 25, 'American Indian': 17, 'Native Hawaiian': 1})\n"
     ]
    },
    {
     "data": {
      "text/plain": [
       "Counter({'Black': 1601,\n",
       "         'White': 21670,\n",
       "         'Hispanic': 428,\n",
       "         'Asian': 1085,\n",
       "         'Missing': 156,\n",
       "         'American Indian': 60})"
      ]
     },
     "execution_count": 63,
     "metadata": {},
     "output_type": "execute_result"
    }
   ],
   "source": [
    "# race\n",
    "print( Counter(patient_df.loc[patient_df.dataset == 'nlst_acrin'].race) )\n",
    "Counter(patient_df.loc[patient_df.dataset == 'PLCO'].race)"
   ]
  },
  {
   "cell_type": "code",
   "execution_count": 57,
   "id": "50eef6cb",
   "metadata": {
    "scrolled": true
   },
   "outputs": [
    {
     "name": "stdout",
     "output_type": "stream",
     "text": [
      "Counter({0.0: 2770, 1.0: 2721})\n"
     ]
    },
    {
     "data": {
      "text/plain": [
       "Counter({0.0: 10724, 2.0: 11328, 1.0: 2948})"
      ]
     },
     "execution_count": 57,
     "metadata": {},
     "output_type": "execute_result"
    }
   ],
   "source": [
    "# is smoker\n",
    "print( Counter(patient_df.loc[patient_df.dataset == 'nlst_acrin'].is_smoker) )\n",
    "Counter(patient_df.loc[patient_df.dataset == 'PLCO'].is_smoker)"
   ]
  },
  {
   "cell_type": "code",
   "execution_count": 45,
   "id": "16e70e03",
   "metadata": {
    "scrolled": false
   },
   "outputs": [
    {
     "data": {
      "text/plain": [
       "(array([1.6923e+04, 4.2740e+03, 2.1330e+03, 7.9400e+02, 3.3900e+02,\n",
       "        1.5400e+02, 5.3000e+01, 2.0000e+01, 7.0000e+00, 1.0000e+00]),\n",
       " array([  0. ,  25.5,  51. ,  76.5, 102. , 127.5, 153. , 178.5, 204. ,\n",
       "        229.5, 255. ]),\n",
       " <BarContainer object of 10 artists>)"
      ]
     },
     "execution_count": 45,
     "metadata": {},
     "output_type": "execute_result"
    },
    {
     "data": {
      "image/png": "[encoded data removed]",
      "text/plain": [
       "<Figure size 432x288 with 1 Axes>"
      ]
     },
     "metadata": {
      "needs_background": "light"
     },
     "output_type": "display_data"
    },
    {
     "data": {
      "image/png": "[encoded data removed]",
      "text/plain": [
       "<Figure size 432x288 with 1 Axes>"
      ]
     },
     "metadata": {
      "needs_background": "light"
     },
     "output_type": "display_data"
    }
   ],
   "source": [
    "# pack_years\n",
    "plt.hist(patient_df.loc[(patient_df.dataset == 'nlst_acrin') & (patient_df.pack_years != -1)].pack_years)\n",
    "plt.figure()\n",
    "plt.hist(patient_df.loc[(patient_df.dataset == 'PLCO') & (patient_df.pack_years != -1)].pack_years)"
   ]
  },
  {
   "cell_type": "code",
   "execution_count": 46,
   "id": "4626252b",
   "metadata": {
    "scrolled": true
   },
   "outputs": [
    {
     "data": {
      "text/plain": [
       "Counter({'RiverainMedicl': 87371, 'VIDAR Demoscan': 2345})"
      ]
     },
     "execution_count": 46,
     "metadata": {},
     "output_type": "execute_result"
    }
   ],
   "source": [
    "# X-ray machines\n",
    "Counter(series_df.loc[series_df.dataset == 'PLCO'].software)"
   ]
  },
  {
   "cell_type": "code",
   "execution_count": 47,
   "id": "2a851e40",
   "metadata": {
    "scrolled": true
   },
   "outputs": [
    {
     "data": {
      "text/plain": [
       "Counter({'FUJI PHOTO FILM Co., ltd.': 5977,\n",
       "         'SIEMENS': 2100,\n",
       "         'Philips Medical Systems': 1295,\n",
       "         'GE MEDICAL SYSTEMS': 5647,\n",
       "         'DeJarnette Research Systems': 478,\n",
       "         'Agfa-Gevaert AG': 1418,\n",
       "         'AGFA': 1261,\n",
       "         'Fuji Photo Film Co.,Ltd.': 700,\n",
       "         '\"GE Healthcare\"': 66,\n",
       "         'Fuji Photo Film Co.,Ltd. and GE Medical Systems': 660,\n",
       "         'Agfa': 137,\n",
       "         'FUJI': 43,\n",
       "         'KODAK': 72,\n",
       "         'HOLOGIC, Inc.': 2,\n",
       "         'Siemens Health Services': 5})"
      ]
     },
     "execution_count": 47,
     "metadata": {},
     "output_type": "execute_result"
    }
   ],
   "source": [
    "Counter(series_df.loc[series_df.dataset == 'nlst_acrin'].manufacturer)"
   ]
  },
  {
   "cell_type": "code",
   "execution_count": 48,
   "id": "17fe3839",
   "metadata": {
    "scrolled": true
   },
   "outputs": [
    {
     "data": {
      "text/plain": [
       "Text(0.5, 1.0, 'PLCO image sizes')"
      ]
     },
     "execution_count": 48,
     "metadata": {},
     "output_type": "execute_result"
    },
    {
     "data": {
      "image/png": "[encoded data removed]",
      "text/plain": [
       "<Figure size 432x288 with 1 Axes>"
      ]
     },
     "metadata": {
      "needs_background": "light"
     },
     "output_type": "display_data"
    }
   ],
   "source": [
    "df = series_df.loc[series_df.dataset == 'PLCO']\n",
    "plt.scatter(df.width, df.height, marker='.')\n",
    "plt.title(\"PLCO image sizes\")"
   ]
  },
  {
   "cell_type": "code",
   "execution_count": 58,
   "id": "0b362e22",
   "metadata": {},
   "outputs": [
    {
     "data": {
      "text/plain": [
       "Text(0.5, 1.0, 'NLST-Xray image sizes')"
      ]
     },
     "execution_count": 58,
     "metadata": {},
     "output_type": "execute_result"
    },
    {
     "data": {
      "image/png": "[encoded data removed]",
      "text/plain": [
       "<Figure size 432x288 with 1 Axes>"
      ]
     },
     "metadata": {
      "needs_background": "light"
     },
     "output_type": "display_data"
    }
   ],
   "source": [
    "df = series_df.loc[series_df.dataset == 'nlst_acrin']\n",
    "plt.scatter(df.width, df.height, marker='.')\n",
    "plt.title(\"NLST-Xray image sizes\")"
   ]
  },
  {
   "cell_type": "code",
   "execution_count": null,
   "id": "4e4174fd",
   "metadata": {},
   "outputs": [],
   "source": []
  },
  {
   "cell_type": "code",
   "execution_count": null,
   "id": "be832610",
   "metadata": {},
   "outputs": [],
   "source": []
  }
 ],
 "metadata": {
  "kernelspec": {
   "display_name": "Python 3 (ipykernel)",
   "language": "python",
   "name": "python3"
  },
  "language_info": {
   "codemirror_mode": {
    "name": "ipython",
    "version": 3
   },
   "file_extension": ".py",
   "mimetype": "text/x-python",
   "name": "python",
   "nbconvert_exporter": "python",
   "pygments_lexer": "ipython3",
   "version": "3.9.0"
  }
 },
 "nbformat": 4,
 "nbformat_minor": 5
}
