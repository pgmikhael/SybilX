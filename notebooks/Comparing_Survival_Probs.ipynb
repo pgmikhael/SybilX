{
 "cells": [
  {
   "cell_type": "code",
   "execution_count": 1,
   "id": "52f96aa9",
   "metadata": {},
   "outputs": [],
   "source": [
    "import numpy as np\n",
    "import tqdm\n",
    "import sklearn.metrics\n",
    "import json\n",
    "import pickle\n",
    "import pandas as pd\n",
    "import torch\n",
    "import cv2\n",
    "from pathlib import Path\n",
    "from collections import Counter\n",
    "from pprint import pprint\n",
    "import matplotlib.pyplot as plt\n",
    "from tqdm import tqdm\n",
    "import pandas as pd\n",
    "\n",
    "from torchmetrics.functional import auroc"
   ]
  },
  {
   "cell_type": "markdown",
   "id": "08e89052",
   "metadata": {},
   "source": [
    "## Comparing CORN survival probabilities with old setup\n",
    "setup"
   ]
  },
  {
   "cell_type": "code",
   "execution_count": 2,
   "id": "9287a59d",
   "metadata": {},
   "outputs": [],
   "source": [
    "def load_predictions(hiddens_dir, run_name):\n",
    "    probs = []\n",
    "    golds = []\n",
    "    preds = []\n",
    "    exams = []\n",
    "    censors = []\n",
    "    for i, path in enumerate(Path(hiddens_dir, run_name).glob('*.predictions')):\n",
    "        p = pickle.load(open(str(path), 'rb'))\n",
    "        \n",
    "        probs.append(p['probs'])\n",
    "        golds.append(p['golds'])\n",
    "        exams.append(p['exam'])\n",
    "        censors.append(p['censors'])\n",
    "    \n",
    "    censors = torch.stack(censors)\n",
    "    probs = torch.stack(probs)\n",
    "    golds = torch.stack(golds)\n",
    "    exams = torch.stack(exams)\n",
    "    return {\n",
    "        'probs': probs,\n",
    "        'golds': golds,\n",
    "        'exams': exams,\n",
    "        'censors': censors\n",
    "    }\n"
   ]
  },
  {
   "cell_type": "markdown",
   "id": "4fb21bb4",
   "metadata": {},
   "source": [
    "load metadata"
   ]
  },
  {
   "cell_type": "code",
   "execution_count": 3,
   "id": "b8baa51a",
   "metadata": {},
   "outputs": [
    {
     "name": "stderr",
     "output_type": "stream",
     "text": [
      "100%|█████████████████████████████████████████████████████████████████████████████████████████████████████████████████████████████████████████████████████████████| 25000/25000 [00:00<00:00, 130196.43it/s]\n"
     ]
    }
   ],
   "source": [
    "DATASET_PATH = '/Mounts/rbg-storage1/datasets/PLCO_XRAY/metadata_2022_04_05_rotated.json'\n",
    "metadata = json.load(open(DATASET_PATH, 'r'))\n",
    "exam2pid = {}\n",
    "exam2split = {}\n",
    "for p in tqdm(metadata):\n",
    "    pid = p['pid']\n",
    "    for e in p['accessions']:\n",
    "        study_yr = e['study_yr']\n",
    "        \n",
    "        pid_int = int( str(ord(pid[0])) + ''.join(c for c in pid if c.isdigit()) )\n",
    "        exam_int = int(f\"{int(pid_int)}{int(study_yr)}\")\n",
    "        \n",
    "        exam2pid[exam_int] = pid\n",
    "        exam2split[exam_int] = p['split']"
   ]
  },
  {
   "cell_type": "markdown",
   "id": "a2c10068",
   "metadata": {},
   "source": [
    "load predictions"
   ]
  },
  {
   "cell_type": "code",
   "execution_count": 6,
   "id": "d45797eb",
   "metadata": {},
   "outputs": [],
   "source": [
    "HIDDENS_DIR = '/Mounts/rbg-storage1/users/ludvig/SybilX/hiddens/test_run'\n",
    "corn_predictions = load_predictions(HIDDENS_DIR, '844c5292df5cc3369ed622042d95d1f6')\n",
    "old_predictions = load_predictions(HIDDENS_DIR, '4f2cbb60b33af45749d3074e2933bc4d')\n",
    "test_predictions = load_predictions(HIDDENS_DIR, '32d0ce59e9b77b1ee88aae769b01a0ea')"
   ]
  },
  {
   "cell_type": "markdown",
   "id": "eaecb331",
   "metadata": {},
   "source": [
    "PLCO x-rays"
   ]
  },
  {
   "cell_type": "code",
   "execution_count": 39,
   "id": "cea71062",
   "metadata": {},
   "outputs": [],
   "source": [
    "corn_probs = corn_predictions['probs']\n",
    "old_probs = old_predictions['probs']\n"
   ]
  },
  {
   "cell_type": "code",
   "execution_count": 53,
   "id": "8c53970d",
   "metadata": {},
   "outputs": [
    {
     "data": {
      "text/plain": [
       "(array([8.312e+03, 4.803e+03, 2.109e+03, 8.970e+02, 3.830e+02, 1.670e+02,\n",
       "        6.300e+01, 2.600e+01, 9.000e+00, 8.000e+00]),\n",
       " array([0.00255324, 0.02058749, 0.03862175, 0.056656  , 0.07469025,\n",
       "        0.09272451, 0.11075876, 0.12879302, 0.14682727, 0.16486153,\n",
       "        0.18289578], dtype=float32),\n",
       " <BarContainer object of 10 artists>)"
      ]
     },
     "execution_count": 53,
     "metadata": {},
     "output_type": "execute_result"
    },
    {
     "data": {
      "image/png": "[encoded data removed]",
      "text/plain": [
       "<Figure size 432x288 with 1 Axes>"
      ]
     },
     "metadata": {
      "needs_background": "light"
     },
     "output_type": "display_data"
    }
   ],
   "source": [
    "df = pd.DataFrame(corn_probs)\n",
    "\n",
    "for i in range(len(df.columns)-1):\n",
    "    df[str(i)+\"->\"+str(i+1)] = df[i+1] - df[i]\n",
    "    \n",
    "plt.hist(df[\"0->1\"])"
   ]
  },
  {
   "cell_type": "code",
   "execution_count": 58,
   "id": "debc12ee",
   "metadata": {},
   "outputs": [
    {
     "data": {
      "text/plain": [
       "0     0.025512\n",
       "1     0.046539\n",
       "2     0.066941\n",
       "3     0.082059\n",
       "4     0.093690\n",
       "5     0.100780\n",
       "6     0.106540\n",
       "7     0.110754\n",
       "8     0.111706\n",
       "9     0.108179\n",
       "10    0.096405\n",
       "11    0.075181\n",
       "dtype: float32"
      ]
     },
     "execution_count": 58,
     "metadata": {},
     "output_type": "execute_result"
    }
   ],
   "source": [
    "df[list(range(12))].std()"
   ]
  },
  {
   "cell_type": "code",
   "execution_count": 61,
   "id": "c49a32d0",
   "metadata": {},
   "outputs": [
    {
     "data": {
      "text/plain": [
       "<BarContainer object of 12 artists>"
      ]
     },
     "execution_count": 61,
     "metadata": {},
     "output_type": "execute_result"
    },
    {
     "data": {
      "image/png": "[encoded data removed]",
      "text/plain": [
       "<Figure size 432x288 with 1 Axes>"
      ]
     },
     "metadata": {
      "needs_background": "light"
     },
     "output_type": "display_data"
    }
   ],
   "source": [
    "plt.bar(range(12), df[list(range(12))].mean(), yerr=df[list(range(12))].std())"
   ]
  },
  {
   "cell_type": "code",
   "execution_count": 37,
   "id": "b472f0b8",
   "metadata": {},
   "outputs": [],
   "source": [
    "# TODO: visualize histograms of differences between year-1 to year-2, year3 to year2, etc."
   ]
  },
  {
   "cell_type": "code",
   "execution_count": 63,
   "id": "a2a628e4",
   "metadata": {},
   "outputs": [
    {
     "data": {
      "text/plain": [
       "(array([    0.,     0.,     0.,     0.,     0., 16777.,     0.,     0.,\n",
       "            0.,     0.]),\n",
       " array([-0.5, -0.4, -0.3, -0.2, -0.1,  0. ,  0.1,  0.2,  0.3,  0.4,  0.5],\n",
       "       dtype=float32),\n",
       " <BarContainer object of 10 artists>)"
      ]
     },
     "execution_count": 63,
     "metadata": {},
     "output_type": "execute_result"
    },
    {
     "data": {
      "image/png": "[encoded data removed]",
      "text/plain": [
       "<Figure size 432x288 with 1 Axes>"
      ]
     },
     "metadata": {
      "needs_background": "light"
     },
     "output_type": "display_data"
    }
   ],
   "source": [
    "df = pd.DataFrame(old_probs)\n",
    "\n",
    "for i in range(len(df.columns)-1):\n",
    "    df[str(i)+\"->\"+str(i+1)] = df[i+1] - df[i]\n",
    "\n",
    "plt.hist(df[\"3->4\"])"
   ]
  },
  {
   "cell_type": "code",
   "execution_count": 67,
   "id": "a9c9cc4d",
   "metadata": {},
   "outputs": [
    {
     "data": {
      "text/plain": [
       "<BarContainer object of 12 artists>"
      ]
     },
     "execution_count": 67,
     "metadata": {},
     "output_type": "execute_result"
    },
    {
     "data": {
      "image/png": "[encoded data removed]",
      "text/plain": [
       "<Figure size 432x288 with 1 Axes>"
      ]
     },
     "metadata": {
      "needs_background": "light"
     },
     "output_type": "display_data"
    }
   ],
   "source": [
    "# TODO: visualize bar chart with stdevs of each year\n",
    "plt.bar(range(12), df[list(range(12))].mean(), yerr=df[list(range(12))].std())"
   ]
  },
  {
   "cell_type": "code",
   "execution_count": 3,
   "id": "509f1e58",
   "metadata": {},
   "outputs": [],
   "source": [
    "import sys\n",
    "import os"
   ]
  },
  {
   "cell_type": "code",
   "execution_count": 4,
   "id": "fc629f85",
   "metadata": {},
   "outputs": [],
   "source": [
    "sys.path.append('/Mounts/rbg-storage1/users/ludvig/SybilX')"
   ]
  },
  {
   "cell_type": "code",
   "execution_count": null,
   "id": "b23c5bbd",
   "metadata": {},
   "outputs": [],
   "source": []
  },
  {
   "cell_type": "code",
   "execution_count": 8,
   "id": "a7266b4b",
   "metadata": {},
   "outputs": [],
   "source": [
    "from argparse import Namespace"
   ]
  },
  {
   "cell_type": "code",
   "execution_count": 6,
   "id": "03a09c67",
   "metadata": {},
   "outputs": [],
   "source": [
    "from sybilx.datasets.plco_xray import PLCO_XRay_Dataset"
   ]
  },
  {
   "cell_type": "code",
   "execution_count": 29,
   "id": "b53e9023",
   "metadata": {},
   "outputs": [
    {
     "name": "stderr",
     "output_type": "stream",
     "text": [
      "100%|██████████████████████████████████████████████████████████████████████████████████████████████████████████████████████████████████████████████████████████████| 25000/25000 [00:00<00:00, 25930.56it/s]"
     ]
    },
    {
     "name": "stdout",
     "output_type": "stream",
     "text": [
      "Contructed PLCO X-Ray Cancer Risk train dataset with 63005 records, 59098 exams, 17524 patients, and the following class balance \n",
      " Counter({0: 60822, 1: 2183})\n",
      "Censor Times: Counter({11: 28063, 10: 9040, 9: 8012, 8: 6381, 7: 4045, 6: 2135, 5: 1247, 3: 913, 4: 907, 2: 877, 1: 754, 0: 631})\n",
      "Class counts are: Counter({0: 60822, 1: 2183})\n",
      "Label weights are {0: 8.220709611653678e-06, 1: 0.00022904260192395785}\n"
     ]
    },
    {
     "name": "stderr",
     "output_type": "stream",
     "text": [
      "\n"
     ]
    }
   ],
   "source": [
    "args = Namespace(\n",
    "    max_followup=12,\n",
    "    dataset_file_path='/Mounts/rbg-storage1/datasets/PLCO_XRAY/metadata_2022_04_05_rotated.json',\n",
    "    train_rawinput_augmentations=[],\n",
    "    train_tnsr_augmentations=[],\n",
    "    test_rawinput_augmentations=[],\n",
    "    test_tnsr_augmentations=[],\n",
    "    input_loader_name='tif_loader',\n",
    "    cache_path='.',\n",
    "    loss_fns=['survival'],\n",
    "    split_type='random',\n",
    "    assign_splits=True,\n",
    "    cross_val_seed=0,\n",
    "    split_probs=[0.7,0.15,0.15],\n",
    "    plco_train_study_yrs=None,\n",
    "    plco_test_study_yrs=None,\n",
    "    plco_use_only_visitnum=None,\n",
    "    plco_use_only_one_image=None,\n",
    "    min_img_width=None,\n",
    "    max_img_width=None,\n",
    "    min_img_height=None,\n",
    "    max_img_height=None,\n",
    "    use_risk_factors=False,\n",
    "    class_bal=True,\n",
    "    class_bal_key='y'\n",
    ")\n",
    "train_data = PLCO_XRay_Dataset(args, 'train')"
   ]
  },
  {
   "cell_type": "code",
   "execution_count": 30,
   "id": "5272bafe",
   "metadata": {},
   "outputs": [
    {
     "name": "stderr",
     "output_type": "stream",
     "text": [
      "100%|█████████████████████████████████████████████████████████████████████████████████████████████████████████████████████████████████████████████████████████████| 25000/25000 [00:00<00:00, 110051.02it/s]\n"
     ]
    },
    {
     "name": "stdout",
     "output_type": "stream",
     "text": [
      "Contructed PLCO X-Ray Cancer Risk dev dataset with 13241 records, 12395 exams, 3683 patients, and the following class balance \n",
      " Counter({0: 12786, 1: 455})\n",
      "Censor Times: Counter({11: 5906, 10: 1849, 9: 1688, 8: 1361, 7: 908, 6: 485, 5: 233, 4: 189, 3: 175, 2: 163, 1: 149, 0: 135})\n",
      "Class counts are: Counter({0: 12786, 1: 455})\n",
      "Label weights are {0: 3.9105271390583454e-05, 1: 0.001098901098901099}\n"
     ]
    },
    {
     "name": "stderr",
     "output_type": "stream",
     "text": [
      "100%|█████████████████████████████████████████████████████████████████████████████████████████████████████████████████████████████████████████████████████████████| 25000/25000 [00:00<00:00, 103980.21it/s]"
     ]
    },
    {
     "name": "stdout",
     "output_type": "stream",
     "text": [
      "Contructed PLCO X-Ray Cancer Risk test dataset with 13416 records, 12609 exams, 3763 patients, and the following class balance \n",
      " Counter({0: 12920, 1: 496})\n",
      "Censor Times: Counter({11: 5812, 10: 1907, 9: 1739, 8: 1383, 7: 879, 6: 517, 5: 279, 2: 199, 4: 186, 0: 173, 1: 171, 3: 171})\n",
      "Class counts are: Counter({0: 12920, 1: 496})\n",
      "Label weights are {0: 3.869969040247678e-05, 1: 0.0010080645161290322}\n"
     ]
    },
    {
     "name": "stderr",
     "output_type": "stream",
     "text": [
      "\n"
     ]
    }
   ],
   "source": [
    "dev_data = PLCO_XRay_Dataset(args, 'dev')\n",
    "test_data =  PLCO_XRay_Dataset(args, 'test')"
   ]
  },
  {
   "cell_type": "code",
   "execution_count": 43,
   "id": "b7c4bacb",
   "metadata": {},
   "outputs": [
    {
     "data": {
      "text/plain": [
       "array([1., 1., 1., 1., 1., 1., 1., 1., 1., 1., 1., 0.])"
      ]
     },
     "execution_count": 43,
     "metadata": {},
     "output_type": "execute_result"
    }
   ],
   "source": [
    "sample['y_mask']"
   ]
  },
  {
   "cell_type": "code",
   "execution_count": 57,
   "id": "3d4107e5",
   "metadata": {},
   "outputs": [
    {
     "data": {
      "text/plain": [
       "(3134, 86528, 0.03621948964497041)"
      ]
     },
     "execution_count": 57,
     "metadata": {},
     "output_type": "execute_result"
    }
   ],
   "source": [
    "pos_at_12 = 0\n",
    "neg_at_12 = 0\n",
    "\n",
    "for sample in train_data.dataset + dev_data.dataset + test_data.dataset:\n",
    "    #if sample['y_mask'][10] == 1 and not (sample['y_mask'][11] == 1):\n",
    "    if sample['y']:\n",
    "        pos_at_12 += 1\n",
    "    else:\n",
    "        neg_at_12 += 1\n",
    "\n",
    "pos_at_12, neg_at_12, pos_at_12/neg_at_12"
   ]
  },
  {
   "cell_type": "code",
   "execution_count": 59,
   "id": "8ff9449d",
   "metadata": {},
   "outputs": [],
   "source": [
    "for p in metadata:\n",
    "    for e in p['accessions']:\n",
    "        break\n",
    "        "
   ]
  },
  {
   "cell_type": "code",
   "execution_count": 64,
   "id": "43a1abf0",
   "metadata": {},
   "outputs": [
    {
     "data": {
      "text/plain": [
       "4251"
      ]
     },
     "execution_count": 64,
     "metadata": {},
     "output_type": "execute_result"
    }
   ],
   "source": [
    "p['pt_metadata']['lung_exitdays']"
   ]
  },
  {
   "cell_type": "markdown",
   "id": "b2180350",
   "metadata": {},
   "source": [
    "trying to make new survival similar to binary"
   ]
  },
  {
   "cell_type": "code",
   "execution_count": 8,
   "id": "81af1d95",
   "metadata": {},
   "outputs": [
    {
     "data": {
      "text/html": [
       "<div>\n",
       "<style scoped>\n",
       "    .dataframe tbody tr th:only-of-type {\n",
       "        vertical-align: middle;\n",
       "    }\n",
       "\n",
       "    .dataframe tbody tr th {\n",
       "        vertical-align: top;\n",
       "    }\n",
       "\n",
       "    .dataframe thead th {\n",
       "        text-align: right;\n",
       "    }\n",
       "</style>\n",
       "<table border=\"1\" class=\"dataframe\">\n",
       "  <thead>\n",
       "    <tr style=\"text-align: right;\">\n",
       "      <th></th>\n",
       "      <th>0</th>\n",
       "      <th>1</th>\n",
       "      <th>2</th>\n",
       "      <th>3</th>\n",
       "      <th>4</th>\n",
       "      <th>5</th>\n",
       "      <th>6</th>\n",
       "      <th>7</th>\n",
       "      <th>8</th>\n",
       "      <th>9</th>\n",
       "      <th>...</th>\n",
       "      <th>1-&gt;2</th>\n",
       "      <th>2-&gt;3</th>\n",
       "      <th>3-&gt;4</th>\n",
       "      <th>4-&gt;5</th>\n",
       "      <th>5-&gt;6</th>\n",
       "      <th>6-&gt;7</th>\n",
       "      <th>7-&gt;8</th>\n",
       "      <th>8-&gt;9</th>\n",
       "      <th>9-&gt;10</th>\n",
       "      <th>10-&gt;11</th>\n",
       "    </tr>\n",
       "  </thead>\n",
       "  <tbody>\n",
       "    <tr>\n",
       "      <th>0</th>\n",
       "      <td>tensor(0.0229)</td>\n",
       "      <td>tensor(0.0454)</td>\n",
       "      <td>tensor(0.0713)</td>\n",
       "      <td>tensor(0.1042)</td>\n",
       "      <td>tensor(0.1320)</td>\n",
       "      <td>tensor(0.1669)</td>\n",
       "      <td>tensor(0.1999)</td>\n",
       "      <td>tensor(0.2390)</td>\n",
       "      <td>tensor(0.2786)</td>\n",
       "      <td>tensor(0.3251)</td>\n",
       "      <td>...</td>\n",
       "      <td>tensor(0.0258)</td>\n",
       "      <td>tensor(0.0330)</td>\n",
       "      <td>tensor(0.0278)</td>\n",
       "      <td>tensor(0.0349)</td>\n",
       "      <td>tensor(0.0330)</td>\n",
       "      <td>tensor(0.0391)</td>\n",
       "      <td>tensor(0.0396)</td>\n",
       "      <td>tensor(0.0465)</td>\n",
       "      <td>tensor(0.0367)</td>\n",
       "      <td>tensor(0.0347)</td>\n",
       "    </tr>\n",
       "    <tr>\n",
       "      <th>1</th>\n",
       "      <td>tensor(0.0222)</td>\n",
       "      <td>tensor(0.0449)</td>\n",
       "      <td>tensor(0.0702)</td>\n",
       "      <td>tensor(0.1042)</td>\n",
       "      <td>tensor(0.1323)</td>\n",
       "      <td>tensor(0.1684)</td>\n",
       "      <td>tensor(0.2035)</td>\n",
       "      <td>tensor(0.2433)</td>\n",
       "      <td>tensor(0.2849)</td>\n",
       "      <td>tensor(0.3340)</td>\n",
       "      <td>...</td>\n",
       "      <td>tensor(0.0254)</td>\n",
       "      <td>tensor(0.0339)</td>\n",
       "      <td>tensor(0.0282)</td>\n",
       "      <td>tensor(0.0361)</td>\n",
       "      <td>tensor(0.0351)</td>\n",
       "      <td>tensor(0.0398)</td>\n",
       "      <td>tensor(0.0416)</td>\n",
       "      <td>tensor(0.0491)</td>\n",
       "      <td>tensor(0.0400)</td>\n",
       "      <td>tensor(0.0394)</td>\n",
       "    </tr>\n",
       "    <tr>\n",
       "      <th>2</th>\n",
       "      <td>tensor(0.0350)</td>\n",
       "      <td>tensor(0.0696)</td>\n",
       "      <td>tensor(0.1051)</td>\n",
       "      <td>tensor(0.1473)</td>\n",
       "      <td>tensor(0.1815)</td>\n",
       "      <td>tensor(0.2204)</td>\n",
       "      <td>tensor(0.2579)</td>\n",
       "      <td>tensor(0.2968)</td>\n",
       "      <td>tensor(0.3351)</td>\n",
       "      <td>tensor(0.3756)</td>\n",
       "      <td>...</td>\n",
       "      <td>tensor(0.0355)</td>\n",
       "      <td>tensor(0.0421)</td>\n",
       "      <td>tensor(0.0342)</td>\n",
       "      <td>tensor(0.0390)</td>\n",
       "      <td>tensor(0.0375)</td>\n",
       "      <td>tensor(0.0388)</td>\n",
       "      <td>tensor(0.0383)</td>\n",
       "      <td>tensor(0.0405)</td>\n",
       "      <td>tensor(0.0333)</td>\n",
       "      <td>tensor(0.0298)</td>\n",
       "    </tr>\n",
       "    <tr>\n",
       "      <th>3</th>\n",
       "      <td>tensor(0.0564)</td>\n",
       "      <td>tensor(0.1084)</td>\n",
       "      <td>tensor(0.1625)</td>\n",
       "      <td>tensor(0.2208)</td>\n",
       "      <td>tensor(0.2629)</td>\n",
       "      <td>tensor(0.3093)</td>\n",
       "      <td>tensor(0.3511)</td>\n",
       "      <td>tensor(0.3908)</td>\n",
       "      <td>tensor(0.4284)</td>\n",
       "      <td>tensor(0.4608)</td>\n",
       "      <td>...</td>\n",
       "      <td>tensor(0.0540)</td>\n",
       "      <td>tensor(0.0583)</td>\n",
       "      <td>tensor(0.0421)</td>\n",
       "      <td>tensor(0.0464)</td>\n",
       "      <td>tensor(0.0418)</td>\n",
       "      <td>tensor(0.0397)</td>\n",
       "      <td>tensor(0.0377)</td>\n",
       "      <td>tensor(0.0324)</td>\n",
       "      <td>tensor(0.0320)</td>\n",
       "      <td>tensor(0.0242)</td>\n",
       "    </tr>\n",
       "    <tr>\n",
       "      <th>4</th>\n",
       "      <td>tensor(0.0291)</td>\n",
       "      <td>tensor(0.0577)</td>\n",
       "      <td>tensor(0.0897)</td>\n",
       "      <td>tensor(0.1287)</td>\n",
       "      <td>tensor(0.1607)</td>\n",
       "      <td>tensor(0.2011)</td>\n",
       "      <td>tensor(0.2397)</td>\n",
       "      <td>tensor(0.2820)</td>\n",
       "      <td>tensor(0.3262)</td>\n",
       "      <td>tensor(0.3737)</td>\n",
       "      <td>...</td>\n",
       "      <td>tensor(0.0321)</td>\n",
       "      <td>tensor(0.0390)</td>\n",
       "      <td>tensor(0.0320)</td>\n",
       "      <td>tensor(0.0404)</td>\n",
       "      <td>tensor(0.0386)</td>\n",
       "      <td>tensor(0.0423)</td>\n",
       "      <td>tensor(0.0443)</td>\n",
       "      <td>tensor(0.0474)</td>\n",
       "      <td>tensor(0.0418)</td>\n",
       "      <td>tensor(0.0352)</td>\n",
       "    </tr>\n",
       "    <tr>\n",
       "      <th>...</th>\n",
       "      <td>...</td>\n",
       "      <td>...</td>\n",
       "      <td>...</td>\n",
       "      <td>...</td>\n",
       "      <td>...</td>\n",
       "      <td>...</td>\n",
       "      <td>...</td>\n",
       "      <td>...</td>\n",
       "      <td>...</td>\n",
       "      <td>...</td>\n",
       "      <td>...</td>\n",
       "      <td>...</td>\n",
       "      <td>...</td>\n",
       "      <td>...</td>\n",
       "      <td>...</td>\n",
       "      <td>...</td>\n",
       "      <td>...</td>\n",
       "      <td>...</td>\n",
       "      <td>...</td>\n",
       "      <td>...</td>\n",
       "      <td>...</td>\n",
       "    </tr>\n",
       "    <tr>\n",
       "      <th>16772</th>\n",
       "      <td>tensor(0.0228)</td>\n",
       "      <td>tensor(0.0463)</td>\n",
       "      <td>tensor(0.0723)</td>\n",
       "      <td>tensor(0.1071)</td>\n",
       "      <td>tensor(0.1357)</td>\n",
       "      <td>tensor(0.1718)</td>\n",
       "      <td>tensor(0.2082)</td>\n",
       "      <td>tensor(0.2476)</td>\n",
       "      <td>tensor(0.2898)</td>\n",
       "      <td>tensor(0.3366)</td>\n",
       "      <td>...</td>\n",
       "      <td>tensor(0.0260)</td>\n",
       "      <td>tensor(0.0348)</td>\n",
       "      <td>tensor(0.0285)</td>\n",
       "      <td>tensor(0.0362)</td>\n",
       "      <td>tensor(0.0364)</td>\n",
       "      <td>tensor(0.0394)</td>\n",
       "      <td>tensor(0.0422)</td>\n",
       "      <td>tensor(0.0468)</td>\n",
       "      <td>tensor(0.0409)</td>\n",
       "      <td>tensor(0.0377)</td>\n",
       "    </tr>\n",
       "    <tr>\n",
       "      <th>16773</th>\n",
       "      <td>tensor(0.0495)</td>\n",
       "      <td>tensor(0.0943)</td>\n",
       "      <td>tensor(0.1407)</td>\n",
       "      <td>tensor(0.1989)</td>\n",
       "      <td>tensor(0.2361)</td>\n",
       "      <td>tensor(0.2821)</td>\n",
       "      <td>tensor(0.3239)</td>\n",
       "      <td>tensor(0.3681)</td>\n",
       "      <td>tensor(0.4097)</td>\n",
       "      <td>tensor(0.4519)</td>\n",
       "      <td>...</td>\n",
       "      <td>tensor(0.0464)</td>\n",
       "      <td>tensor(0.0582)</td>\n",
       "      <td>tensor(0.0372)</td>\n",
       "      <td>tensor(0.0460)</td>\n",
       "      <td>tensor(0.0418)</td>\n",
       "      <td>tensor(0.0442)</td>\n",
       "      <td>tensor(0.0416)</td>\n",
       "      <td>tensor(0.0421)</td>\n",
       "      <td>tensor(0.0347)</td>\n",
       "      <td>tensor(0.0306)</td>\n",
       "    </tr>\n",
       "    <tr>\n",
       "      <th>16774</th>\n",
       "      <td>tensor(0.0459)</td>\n",
       "      <td>tensor(0.0880)</td>\n",
       "      <td>tensor(0.1329)</td>\n",
       "      <td>tensor(0.1854)</td>\n",
       "      <td>tensor(0.2234)</td>\n",
       "      <td>tensor(0.2707)</td>\n",
       "      <td>tensor(0.3102)</td>\n",
       "      <td>tensor(0.3526)</td>\n",
       "      <td>tensor(0.3945)</td>\n",
       "      <td>tensor(0.4361)</td>\n",
       "      <td>...</td>\n",
       "      <td>tensor(0.0449)</td>\n",
       "      <td>tensor(0.0525)</td>\n",
       "      <td>tensor(0.0380)</td>\n",
       "      <td>tensor(0.0473)</td>\n",
       "      <td>tensor(0.0395)</td>\n",
       "      <td>tensor(0.0423)</td>\n",
       "      <td>tensor(0.0420)</td>\n",
       "      <td>tensor(0.0415)</td>\n",
       "      <td>tensor(0.0350)</td>\n",
       "      <td>tensor(0.0275)</td>\n",
       "    </tr>\n",
       "    <tr>\n",
       "      <th>16775</th>\n",
       "      <td>tensor(0.0658)</td>\n",
       "      <td>tensor(0.1230)</td>\n",
       "      <td>tensor(0.1825)</td>\n",
       "      <td>tensor(0.2416)</td>\n",
       "      <td>tensor(0.2822)</td>\n",
       "      <td>tensor(0.3293)</td>\n",
       "      <td>tensor(0.3679)</td>\n",
       "      <td>tensor(0.4099)</td>\n",
       "      <td>tensor(0.4465)</td>\n",
       "      <td>tensor(0.4834)</td>\n",
       "      <td>...</td>\n",
       "      <td>tensor(0.0595)</td>\n",
       "      <td>tensor(0.0591)</td>\n",
       "      <td>tensor(0.0405)</td>\n",
       "      <td>tensor(0.0471)</td>\n",
       "      <td>tensor(0.0386)</td>\n",
       "      <td>tensor(0.0420)</td>\n",
       "      <td>tensor(0.0366)</td>\n",
       "      <td>tensor(0.0368)</td>\n",
       "      <td>tensor(0.0285)</td>\n",
       "      <td>tensor(0.0213)</td>\n",
       "    </tr>\n",
       "    <tr>\n",
       "      <th>16776</th>\n",
       "      <td>tensor(0.0515)</td>\n",
       "      <td>tensor(0.1009)</td>\n",
       "      <td>tensor(0.1487)</td>\n",
       "      <td>tensor(0.2049)</td>\n",
       "      <td>tensor(0.2418)</td>\n",
       "      <td>tensor(0.2839)</td>\n",
       "      <td>tensor(0.3223)</td>\n",
       "      <td>tensor(0.3574)</td>\n",
       "      <td>tensor(0.3931)</td>\n",
       "      <td>tensor(0.4280)</td>\n",
       "      <td>...</td>\n",
       "      <td>tensor(0.0478)</td>\n",
       "      <td>tensor(0.0562)</td>\n",
       "      <td>tensor(0.0368)</td>\n",
       "      <td>tensor(0.0421)</td>\n",
       "      <td>tensor(0.0384)</td>\n",
       "      <td>tensor(0.0351)</td>\n",
       "      <td>tensor(0.0357)</td>\n",
       "      <td>tensor(0.0349)</td>\n",
       "      <td>tensor(0.0283)</td>\n",
       "      <td>tensor(0.0239)</td>\n",
       "    </tr>\n",
       "  </tbody>\n",
       "</table>\n",
       "<p>16777 rows × 23 columns</p>\n",
       "</div>"
      ],
      "text/plain": [
       "                    0               1               2               3  \\\n",
       "0      tensor(0.0229)  tensor(0.0454)  tensor(0.0713)  tensor(0.1042)   \n",
       "1      tensor(0.0222)  tensor(0.0449)  tensor(0.0702)  tensor(0.1042)   \n",
       "2      tensor(0.0350)  tensor(0.0696)  tensor(0.1051)  tensor(0.1473)   \n",
       "3      tensor(0.0564)  tensor(0.1084)  tensor(0.1625)  tensor(0.2208)   \n",
       "4      tensor(0.0291)  tensor(0.0577)  tensor(0.0897)  tensor(0.1287)   \n",
       "...               ...             ...             ...             ...   \n",
       "16772  tensor(0.0228)  tensor(0.0463)  tensor(0.0723)  tensor(0.1071)   \n",
       "16773  tensor(0.0495)  tensor(0.0943)  tensor(0.1407)  tensor(0.1989)   \n",
       "16774  tensor(0.0459)  tensor(0.0880)  tensor(0.1329)  tensor(0.1854)   \n",
       "16775  tensor(0.0658)  tensor(0.1230)  tensor(0.1825)  tensor(0.2416)   \n",
       "16776  tensor(0.0515)  tensor(0.1009)  tensor(0.1487)  tensor(0.2049)   \n",
       "\n",
       "                    4               5               6               7  \\\n",
       "0      tensor(0.1320)  tensor(0.1669)  tensor(0.1999)  tensor(0.2390)   \n",
       "1      tensor(0.1323)  tensor(0.1684)  tensor(0.2035)  tensor(0.2433)   \n",
       "2      tensor(0.1815)  tensor(0.2204)  tensor(0.2579)  tensor(0.2968)   \n",
       "3      tensor(0.2629)  tensor(0.3093)  tensor(0.3511)  tensor(0.3908)   \n",
       "4      tensor(0.1607)  tensor(0.2011)  tensor(0.2397)  tensor(0.2820)   \n",
       "...               ...             ...             ...             ...   \n",
       "16772  tensor(0.1357)  tensor(0.1718)  tensor(0.2082)  tensor(0.2476)   \n",
       "16773  tensor(0.2361)  tensor(0.2821)  tensor(0.3239)  tensor(0.3681)   \n",
       "16774  tensor(0.2234)  tensor(0.2707)  tensor(0.3102)  tensor(0.3526)   \n",
       "16775  tensor(0.2822)  tensor(0.3293)  tensor(0.3679)  tensor(0.4099)   \n",
       "16776  tensor(0.2418)  tensor(0.2839)  tensor(0.3223)  tensor(0.3574)   \n",
       "\n",
       "                    8               9  ...            1->2            2->3  \\\n",
       "0      tensor(0.2786)  tensor(0.3251)  ...  tensor(0.0258)  tensor(0.0330)   \n",
       "1      tensor(0.2849)  tensor(0.3340)  ...  tensor(0.0254)  tensor(0.0339)   \n",
       "2      tensor(0.3351)  tensor(0.3756)  ...  tensor(0.0355)  tensor(0.0421)   \n",
       "3      tensor(0.4284)  tensor(0.4608)  ...  tensor(0.0540)  tensor(0.0583)   \n",
       "4      tensor(0.3262)  tensor(0.3737)  ...  tensor(0.0321)  tensor(0.0390)   \n",
       "...               ...             ...  ...             ...             ...   \n",
       "16772  tensor(0.2898)  tensor(0.3366)  ...  tensor(0.0260)  tensor(0.0348)   \n",
       "16773  tensor(0.4097)  tensor(0.4519)  ...  tensor(0.0464)  tensor(0.0582)   \n",
       "16774  tensor(0.3945)  tensor(0.4361)  ...  tensor(0.0449)  tensor(0.0525)   \n",
       "16775  tensor(0.4465)  tensor(0.4834)  ...  tensor(0.0595)  tensor(0.0591)   \n",
       "16776  tensor(0.3931)  tensor(0.4280)  ...  tensor(0.0478)  tensor(0.0562)   \n",
       "\n",
       "                 3->4            4->5            5->6            6->7  \\\n",
       "0      tensor(0.0278)  tensor(0.0349)  tensor(0.0330)  tensor(0.0391)   \n",
       "1      tensor(0.0282)  tensor(0.0361)  tensor(0.0351)  tensor(0.0398)   \n",
       "2      tensor(0.0342)  tensor(0.0390)  tensor(0.0375)  tensor(0.0388)   \n",
       "3      tensor(0.0421)  tensor(0.0464)  tensor(0.0418)  tensor(0.0397)   \n",
       "4      tensor(0.0320)  tensor(0.0404)  tensor(0.0386)  tensor(0.0423)   \n",
       "...               ...             ...             ...             ...   \n",
       "16772  tensor(0.0285)  tensor(0.0362)  tensor(0.0364)  tensor(0.0394)   \n",
       "16773  tensor(0.0372)  tensor(0.0460)  tensor(0.0418)  tensor(0.0442)   \n",
       "16774  tensor(0.0380)  tensor(0.0473)  tensor(0.0395)  tensor(0.0423)   \n",
       "16775  tensor(0.0405)  tensor(0.0471)  tensor(0.0386)  tensor(0.0420)   \n",
       "16776  tensor(0.0368)  tensor(0.0421)  tensor(0.0384)  tensor(0.0351)   \n",
       "\n",
       "                 7->8            8->9           9->10          10->11  \n",
       "0      tensor(0.0396)  tensor(0.0465)  tensor(0.0367)  tensor(0.0347)  \n",
       "1      tensor(0.0416)  tensor(0.0491)  tensor(0.0400)  tensor(0.0394)  \n",
       "2      tensor(0.0383)  tensor(0.0405)  tensor(0.0333)  tensor(0.0298)  \n",
       "3      tensor(0.0377)  tensor(0.0324)  tensor(0.0320)  tensor(0.0242)  \n",
       "4      tensor(0.0443)  tensor(0.0474)  tensor(0.0418)  tensor(0.0352)  \n",
       "...               ...             ...             ...             ...  \n",
       "16772  tensor(0.0422)  tensor(0.0468)  tensor(0.0409)  tensor(0.0377)  \n",
       "16773  tensor(0.0416)  tensor(0.0421)  tensor(0.0347)  tensor(0.0306)  \n",
       "16774  tensor(0.0420)  tensor(0.0415)  tensor(0.0350)  tensor(0.0275)  \n",
       "16775  tensor(0.0366)  tensor(0.0368)  tensor(0.0285)  tensor(0.0213)  \n",
       "16776  tensor(0.0357)  tensor(0.0349)  tensor(0.0283)  tensor(0.0239)  \n",
       "\n",
       "[16777 rows x 23 columns]"
      ]
     },
     "execution_count": 8,
     "metadata": {},
     "output_type": "execute_result"
    }
   ],
   "source": [
    "df"
   ]
  },
  {
   "cell_type": "code",
   "execution_count": null,
   "id": "e1010f7f",
   "metadata": {},
   "outputs": [],
   "source": []
  },
  {
   "cell_type": "code",
   "execution_count": 11,
   "id": "33dc267f",
   "metadata": {},
   "outputs": [
    {
     "data": {
      "text/plain": [
       "(array([1.880e+03, 5.933e+03, 4.653e+03, 2.616e+03, 1.100e+03, 4.330e+02,\n",
       "        1.180e+02, 3.100e+01, 1.000e+01, 3.000e+00]),\n",
       " array([0.00949181, 0.0213399 , 0.03318798, 0.04503607, 0.05688415,\n",
       "        0.06873224, 0.08058032, 0.09242841, 0.10427649, 0.11612458,\n",
       "        0.12797266], dtype=float32),\n",
       " <BarContainer object of 10 artists>)"
      ]
     },
     "execution_count": 11,
     "metadata": {},
     "output_type": "execute_result"
    },
    {
     "data": {
      "image/png": "[encoded data removed]",
      "text/plain": [
       "<Figure size 432x288 with 1 Axes>"
      ]
     },
     "metadata": {
      "needs_background": "light"
     },
     "output_type": "display_data"
    }
   ],
   "source": [
    "df = pd.DataFrame(test_predictions['probs'].numpy())\n",
    "\n",
    "for i in range(len(df.columns)-1):\n",
    "    df[str(i)+\"->\"+str(i+1)] = df[i+1] - df[i]\n",
    "    \n",
    "plt.hist(df[\"0->1\"])"
   ]
  },
  {
   "cell_type": "code",
   "execution_count": 14,
   "id": "1a6de259",
   "metadata": {},
   "outputs": [
    {
     "data": {
      "text/plain": [
       "<BarContainer object of 12 artists>"
      ]
     },
     "execution_count": 14,
     "metadata": {},
     "output_type": "execute_result"
    },
    {
     "data": {
      "image/png": "[encoded data removed]",
      "text/plain": [
       "<Figure size 432x288 with 1 Axes>"
      ]
     },
     "metadata": {
      "needs_background": "light"
     },
     "output_type": "display_data"
    }
   ],
   "source": [
    "plt.bar(range(12), df[list(range(12))].mean(), yerr=df[list(range(12))].std())"
   ]
  },
  {
   "cell_type": "code",
   "execution_count": 24,
   "id": "8a065caa",
   "metadata": {},
   "outputs": [
    {
     "data": {
      "text/plain": [
       "<BarContainer object of 12 artists>"
      ]
     },
     "execution_count": 24,
     "metadata": {},
     "output_type": "execute_result"
    },
    {
     "data": {
      "image/png": "[encoded data removed]",
      "text/plain": [
       "<Figure size 432x288 with 1 Axes>"
      ]
     },
     "metadata": {
      "needs_background": "light"
     },
     "output_type": "display_data"
    }
   ],
   "source": [
    "plt.bar(range(12), df[list(range(12))].iloc[500])"
   ]
  },
  {
   "cell_type": "code",
   "execution_count": 34,
   "id": "0242b5dc",
   "metadata": {},
   "outputs": [
    {
     "ename": "NameError",
     "evalue": "name 'splits' is not defined",
     "output_type": "error",
     "traceback": [
      "\u001b[0;31m---------------------------------------------------------------------------\u001b[0m",
      "\u001b[0;31mNameError\u001b[0m                                 Traceback (most recent call last)",
      "Input \u001b[0;32mIn [34]\u001b[0m, in \u001b[0;36m<cell line: 1>\u001b[0;34m()\u001b[0m\n\u001b[0;32m----> 1\u001b[0m \u001b[43msplits\u001b[49m\n",
      "\u001b[0;31mNameError\u001b[0m: name 'splits' is not defined"
     ]
    }
   ],
   "source": [
    "splits"
   ]
  },
  {
   "cell_type": "code",
   "execution_count": 31,
   "id": "f94cf53a",
   "metadata": {},
   "outputs": [
    {
     "data": {
      "text/plain": [
       "tensor(0)"
      ]
     },
     "execution_count": 31,
     "metadata": {},
     "output_type": "execute_result"
    }
   ],
   "source": [
    "test_predictions['golds'][200]"
   ]
  },
  {
   "cell_type": "code",
   "execution_count": 55,
   "id": "819ee0f6",
   "metadata": {},
   "outputs": [],
   "source": [
    "probs = []\n",
    "\n",
    "for i, exam in enumerate(test_predictions['exams']):\n",
    "    split = exam2split[exam.item()]\n",
    "    if split != 'test':\n",
    "        continue\n",
    "    probs.append(test_predictions['probs'][i])\n",
    "probs = torch.stack(probs)"
   ]
  },
  {
   "cell_type": "code",
   "execution_count": 58,
   "id": "a44f73ee",
   "metadata": {},
   "outputs": [
    {
     "data": {
      "text/plain": [
       "2530"
      ]
     },
     "execution_count": 58,
     "metadata": {},
     "output_type": "execute_result"
    }
   ],
   "source": [
    "len(probs)"
   ]
  },
  {
   "cell_type": "code",
   "execution_count": 59,
   "id": "59680189",
   "metadata": {},
   "outputs": [
    {
     "data": {
      "text/plain": [
       "<BarContainer object of 12 artists>"
      ]
     },
     "execution_count": 59,
     "metadata": {},
     "output_type": "execute_result"
    },
    {
     "data": {
      "image/png": "[encoded data removed]",
      "text/plain": [
       "<Figure size 432x288 with 1 Axes>"
      ]
     },
     "metadata": {
      "needs_background": "light"
     },
     "output_type": "display_data"
    }
   ],
   "source": [
    "df = pd.DataFrame(probs.numpy())\n",
    "\n",
    "for i in range(len(df.columns)-1):\n",
    "    df[str(i)+\"->\"+str(i+1)] = df[i+1] - df[i]\n",
    "\n",
    "plt.bar(range(12), df[list(range(12))].mean(), yerr=df[list(range(12))].std())"
   ]
  },
  {
   "cell_type": "code",
   "execution_count": 80,
   "id": "7f1efb82",
   "metadata": {},
   "outputs": [
    {
     "data": {
      "image/png": "[encoded data removed]",
      "text/plain": [
       "<Figure size 432x288 with 1 Axes>"
      ]
     },
     "metadata": {
      "needs_background": "light"
     },
     "output_type": "display_data"
    }
   ],
   "source": [
    "for i in range(5):\n",
    "    plt.bar(range(12), df[list(range(12))].iloc[i], alpha=0.2)"
   ]
  },
  {
   "cell_type": "code",
   "execution_count": null,
   "id": "150892c3",
   "metadata": {},
   "outputs": [],
   "source": []
  }
 ],
 "metadata": {
  "kernelspec": {
   "display_name": "Python 3 (ipykernel)",
   "language": "python",
   "name": "python3"
  },
  "language_info": {
   "codemirror_mode": {
    "name": "ipython",
    "version": 3
   },
   "file_extension": ".py",
   "mimetype": "text/x-python",
   "name": "python",
   "nbconvert_exporter": "python",
   "pygments_lexer": "ipython3",
   "version": "3.8.0"
  }
 },
 "nbformat": 4,
 "nbformat_minor": 5
}
