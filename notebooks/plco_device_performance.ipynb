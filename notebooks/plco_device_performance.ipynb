{
 "cells": [
  {
   "cell_type": "code",
   "execution_count": 1,
   "id": "557dfaf5",
   "metadata": {},
   "outputs": [],
   "source": [
    "import os\n",
    "import json\n",
    "import numpy as np\n",
    "import pandas as pd\n",
    "import matplotlib.pyplot as plt\n",
    "from pathlib import Path\n",
    "from tqdm import tqdm\n",
    "from collections import Counter\n",
    "import skimage\n",
    "import pydicom\n",
    "import cv2\n",
    "from tqdm import tqdm\n",
    "import sys\n",
    "from pydicom.pixel_data_handlers.util import apply_modality_lut\n",
    "import torch\n",
    "import torch.nn.functional as F\n",
    "\n",
    "from argparse import Namespace\n",
    "from pytorch_lightning.utilities.cloud_io import load as pl_load"
   ]
  },
  {
   "cell_type": "code",
   "execution_count": 2,
   "id": "53452edd",
   "metadata": {},
   "outputs": [],
   "source": [
    "sys.path.append(os.path.realpath('..'))\n",
    "from sybilx.datasets.nlst import NLSTCTProjectionsDataset\n",
    "from sybilx.datasets.nlst_xray import NLST_XRay_Dataset\n",
    "from sybilx.datasets.plco_xray import PLCO_NLST_Smokers_Dataset, PLCO_XRay_Dataset, PLCO_XRay_Smokers_Dataset\n",
    "from sybilx.utils.registry import get_object\n",
    "import sybilx.utils.loading as loaders"
   ]
  },
  {
   "cell_type": "markdown",
   "id": "3443ce54",
   "metadata": {},
   "source": [
    "## NLST X-Rays Statistics"
   ]
  },
  {
   "cell_type": "code",
   "execution_count": 3,
   "id": "bc6f0993",
   "metadata": {},
   "outputs": [],
   "source": [
    "true = True\n",
    "false = False"
   ]
  },
  {
   "cell_type": "code",
   "execution_count": 4,
   "id": "9d30eee9",
   "metadata": {},
   "outputs": [],
   "source": [
    "config = {\n",
    "    \"dataset\": [\"plco_xray\"],\n",
    "    \"loss_fns\": [\"cross_entropy\"],\n",
    "    \"num_classes\": [2],\n",
    "    \"metrics\": [\"classification\"],\n",
    "    \"monitor\": [\"val_roc_auc\"],\n",
    "    \"input_loader_name\": [\"tif_loader\"],\n",
    "    \"img_file_type\": ['tif'],\n",
    "    \"accumulate_grad_batches\": [1],\n",
    "    \"workspace\": [\"itamar\"],\n",
    "    \"project_name\": [\"xray-cancer\"],\n",
    "    \"lightning_name\": [\"base\"],\n",
    "    \"patience\": [5],\n",
    "    \"num_workers\": [8],\n",
    "    \"fix_seed_for_multi_image_augmentations\": [true],\n",
    "    \"num_chan\": [3],\n",
    "    \"num_sanity_val_steps\": [0],\n",
    "    \"use_risk_factors\": [true],\n",
    "    \"val_check_interval\": [1.0],\n",
    "    \"ignore_warnings\": [false],\n",
    "    \"cross_val_seed\": [0],\n",
    "    \"assign_splits\": [true],\n",
    "    \"split_type\": [\"random\"],\n",
    "    \"split_probs\": [[0.7, 0.15, 0.15]],\n",
    "    \"limit_train_batches\": [1.0],\n",
    "    \"limit_val_batches\": [1.0],\n",
    "    \"gpus\": [1],\n",
    "    \"precision\": [16],\n",
    "    \"max_followup\": [12],\n",
    "    \"batch_size\": [32],\n",
    "    \"img_size\": [[512, 512]],\n",
    "    \"max_epochs\": [10],\n",
    "    \"lr_decay\": [0.1],\n",
    "    \"lr\": [1e-3],\n",
    "    \"base_model\": [\"simple_sybilx_r50\"],\n",
    "    \"use_annotations\": [false],\n",
    "    \"optimizer\": [\"sgd\"],\n",
    "    \"momentum\": [0.9],\n",
    "    \"train\": [true],\n",
    "    \"dev\": [true],\n",
    "    \"test\": [true],\n",
    "    \"class_bal\": [true],\n",
    "    \"train_rawinput_augmentations\": [[(\"scale_2d\", {}), (\"rotate_range\", {\"deg\":20})]],\n",
    "    \"train_tnsr_augmentations\": [[(\"force_num_chan_2d\", {}), (\"normalize_2d\", {})]],\n",
    "    \"test_rawinput_augmentations\": [[(\"scale_2d\", {})]],\n",
    "    \"test_tnsr_augmentations\": [[(\"force_num_chan_2d\", {}), (\"normalize_2d\", {})]],\n",
    "    \"img_mean\": [[2863.070033296751]],\n",
    "    \"img_std\": [[887.966694489157]],\n",
    "    \"dataset_file_path\": [\"/storage/ludvig/PLCO_XRAY/metadata_2022_04_05_rotated.json\"],\n",
    "    \"save_dir\": [\"/storage/itamar/snapshots\"],\n",
    "    \"cache_path\": [\"/storage/xray_cache\"],\n",
    "    \"scheduler\": [\"reduce_on_plateau\"],\n",
    "    \"dropout\": [0.1],\n",
    "    \"weight_decay\": [0.1],\n",
    "    \"comet_tags\": [\"plco simple_sybilx_r50 dropout wd momentum v2 lr_wd_drop_experiments\"],\n",
    "    \"filter_derived_images\": [false],\n",
    "    \"filter_post_processed_images\": [false],\n",
    "    \"class_bal_key\": ['y'],\n",
    "    \"plco_train_study_yrs\": [None],\n",
    "    \"plco_test_study_yrs\": [None],\n",
    "    \"plco_use_only_visitnum\": [None],\n",
    "    \"plco_use_only_one_image\": [False],\n",
    "    \"min_img_width\":[None],\n",
    "    \"max_img_width\":[None],\n",
    "    \"min_img_height\":[None],\n",
    "    \"max_img_height\": [None],\n",
    "    \"hidden_size\": [256],\n",
    "    \"relax_checkpoint_matching\": [False],\n",
    "    \"accelerator\": [None],\n",
    "#     \"snapshot\": \"/storage/itamar/snapshots/528a4cd1cd28dffe84cd720a2c36ffd0/528a4cd1cd28dffe84cd720a2c36ffd0epoch=2.ckpt\"\n",
    "}\n",
    "config = {k: v[0] for k,v in config.items()}"
   ]
  },
  {
   "cell_type": "code",
   "execution_count": 5,
   "id": "3db37d50",
   "metadata": {},
   "outputs": [],
   "source": [
    "args = Namespace(**config)"
   ]
  },
  {
   "cell_type": "code",
   "execution_count": 6,
   "id": "8d94038d",
   "metadata": {},
   "outputs": [
    {
     "data": {
      "text/plain": [
       "Namespace(accelerator=None, accumulate_grad_batches=1, assign_splits=True, base_model='simple_sybilx_r50', batch_size=32, cache_path='/storage/xray_cache', class_bal=True, class_bal_key='y', comet_tags='plco simple_sybilx_r50 dropout wd momentum v2 lr_wd_drop_experiments', cross_val_seed=0, dataset='plco_xray', dataset_file_path='/storage/ludvig/PLCO_XRAY/metadata_2022_04_05_rotated.json', dev=True, dropout=0.1, filter_derived_images=False, filter_post_processed_images=False, fix_seed_for_multi_image_augmentations=True, gpus=1, hidden_size=256, ignore_warnings=False, img_file_type='tif', img_mean=[2863.070033296751], img_size=[512, 512], img_std=[887.966694489157], input_loader_name='tif_loader', lightning_name='base', limit_train_batches=1.0, limit_val_batches=1.0, loss_fns='cross_entropy', lr=0.001, lr_decay=0.1, max_epochs=10, max_followup=12, max_img_height=None, max_img_width=None, metrics='classification', min_img_height=None, min_img_width=None, momentum=0.9, monitor='val_roc_auc', num_chan=3, num_classes=2, num_sanity_val_steps=0, num_workers=8, optimizer='sgd', patience=5, plco_test_study_yrs=None, plco_train_study_yrs=None, plco_use_only_one_image=False, plco_use_only_visitnum=None, precision=16, project_name='xray-cancer', relax_checkpoint_matching=False, save_dir='/storage/itamar/snapshots', scheduler='reduce_on_plateau', split_probs=[0.7, 0.15, 0.15], split_type='random', test=True, test_rawinput_augmentations=[('scale_2d', {})], test_tnsr_augmentations=[('force_num_chan_2d', {}), ('normalize_2d', {})], train=True, train_rawinput_augmentations=[('scale_2d', {}), ('rotate_range', {'deg': 20})], train_tnsr_augmentations=[('force_num_chan_2d', {}), ('normalize_2d', {})], use_annotations=False, use_risk_factors=True, val_check_interval=1.0, weight_decay=0.1, workspace='itamar')"
      ]
     },
     "execution_count": 6,
     "metadata": {},
     "output_type": "execute_result"
    }
   ],
   "source": [
    "args"
   ]
  },
  {
   "cell_type": "code",
   "execution_count": 7,
   "id": "fd639f14",
   "metadata": {},
   "outputs": [
    {
     "name": "stderr",
     "output_type": "stream",
     "text": [
      "100%|██████████████████████████████████████████████████████████████████████████████████████████████████████| 25000/25000 [00:01<00:00, 15156.54it/s]\n"
     ]
    },
    {
     "name": "stdout",
     "output_type": "stream",
     "text": [
      "Contructed PLCO X-Ray Cancer Risk train dataset with 63005 records, 59098 exams, 17524 patients, and the following class balance \n",
      " Counter({0: 60822, 1: 2183})\n",
      "Censor Times: Counter({11: 28063, 10: 9040, 9: 8012, 8: 6381, 7: 4045, 6: 2135, 5: 1247, 3: 913, 4: 907, 2: 877, 1: 754, 0: 631})\n",
      "Class counts are: Counter({0: 60822, 1: 2183})\n",
      "Label weights are {0: 8.220709611653678e-06, 1: 0.00022904260192395785}\n"
     ]
    },
    {
     "name": "stderr",
     "output_type": "stream",
     "text": [
      "100%|██████████████████████████████████████████████████████████████████████████████████████████████████████| 25000/25000 [00:00<00:00, 73713.91it/s]\n"
     ]
    },
    {
     "name": "stdout",
     "output_type": "stream",
     "text": [
      "Contructed PLCO X-Ray Cancer Risk dev dataset with 13241 records, 12395 exams, 3683 patients, and the following class balance \n",
      " Counter({0: 12786, 1: 455})\n",
      "Censor Times: Counter({11: 5906, 10: 1849, 9: 1688, 8: 1361, 7: 908, 6: 485, 5: 233, 4: 189, 3: 175, 2: 163, 1: 149, 0: 135})\n",
      "Class counts are: Counter({0: 12786, 1: 455})\n",
      "Label weights are {0: 3.9105271390583454e-05, 1: 0.001098901098901099}\n"
     ]
    },
    {
     "name": "stderr",
     "output_type": "stream",
     "text": [
      "100%|██████████████████████████████████████████████████████████████████████████████████████████████████████| 25000/25000 [00:00<00:00, 68341.86it/s]"
     ]
    },
    {
     "name": "stdout",
     "output_type": "stream",
     "text": [
      "Contructed PLCO X-Ray Cancer Risk test dataset with 13416 records, 12609 exams, 3763 patients, and the following class balance \n",
      " Counter({0: 12920, 1: 496})\n",
      "Censor Times: Counter({11: 5812, 10: 1907, 9: 1739, 8: 1383, 7: 879, 6: 517, 5: 279, 2: 199, 4: 186, 0: 173, 1: 171, 3: 171})\n",
      "Class counts are: Counter({0: 12920, 1: 496})\n",
      "Label weights are {0: 3.869969040247678e-05, 1: 0.0010080645161290322}\n"
     ]
    },
    {
     "name": "stderr",
     "output_type": "stream",
     "text": [
      "\n"
     ]
    }
   ],
   "source": [
    "train_dataset = loaders.get_train_dataset_loader(\n",
    "        args, get_object(args.dataset, \"dataset\")(args, \"train\")\n",
    "    )\n",
    "dev_dataset = loaders.get_eval_dataset_loader(\n",
    "    args, get_object(args.dataset, \"dataset\")(args, \"dev\"), False\n",
    ")\n",
    "    \n",
    "test_dataset = loaders.get_eval_dataset_loader(\n",
    "    args, get_object(args.dataset, \"dataset\")(args, \"test\"), False\n",
    ")"
   ]
  },
  {
   "cell_type": "code",
   "execution_count": 8,
   "id": "8bf43cfe",
   "metadata": {
    "scrolled": false
   },
   "outputs": [],
   "source": [
    "def load_snapshot(snapshot_path):\n",
    "    args.snapshot = snapshot_path\n",
    "    model = get_object(args.lightning_name, \"lightning\")(args)\n",
    "    if snapshot_path != 'random_init':\n",
    "        modelpath = args.snapshot\n",
    "        checkpoint = pl_load(\n",
    "            args.snapshot, map_location=lambda storage, loc: storage\n",
    "        )\n",
    "        snargs = checkpoint[\"hyper_parameters\"][\"args\"]\n",
    "\n",
    "        model = model.load_from_checkpoint(\n",
    "            checkpoint_path=modelpath,\n",
    "            strict=not args.relax_checkpoint_matching,\n",
    "            **{\"args\": args}\n",
    "        )\n",
    "    model.eval()\n",
    "    return model"
   ]
  },
  {
   "cell_type": "code",
   "execution_count": 9,
   "id": "1c2cb34f",
   "metadata": {},
   "outputs": [],
   "source": [
    "model = load_snapshot(\"/storage/itamar/snapshots/528a4cd1cd28dffe84cd720a2c36ffd0/528a4cd1cd28dffe84cd720a2c36ffd0epoch=2.ckpt\") "
   ]
  },
  {
   "cell_type": "code",
   "execution_count": 10,
   "id": "d440983f",
   "metadata": {},
   "outputs": [],
   "source": [
    "from sybilx.learning.losses.basic import get_cross_entropy_loss\n",
    "from sybilx.learning.metrics import basic"
   ]
  },
  {
   "cell_type": "markdown",
   "id": "6a2c083a",
   "metadata": {},
   "source": [
    "## Train Data"
   ]
  },
  {
   "cell_type": "code",
   "execution_count": 11,
   "id": "667a4908",
   "metadata": {
    "scrolled": true
   },
   "outputs": [
    {
     "name": "stderr",
     "output_type": "stream",
     "text": [
      "100%|█████████████████████████████████████████████████████████████████████████████████████████████████████████| 1969/1969 [1:22:54<00:00,  2.53s/it]\n"
     ]
    }
   ],
   "source": [
    "institution, probs, preds, golds = [], [], [], []\n",
    "# i = 0\n",
    "for batch_idx, batch in tqdm(enumerate(train_dataset), total=len(train_dataset)):\n",
    "    out = model.model(batch['x'])\n",
    "    loss, logging_dict, predictions = get_cross_entropy_loss(out, batch, model.model, args)\n",
    "    institution.append(batch['institution'])\n",
    "    probs.append(predictions['probs'])\n",
    "    preds.append(predictions['preds'])\n",
    "    golds.append(predictions['golds'])\n",
    "#     i += 1\n",
    "#     if i >= 10 :\n",
    "#         break"
   ]
  },
  {
   "cell_type": "code",
   "execution_count": 12,
   "id": "6146583c",
   "metadata": {},
   "outputs": [],
   "source": [
    "institution = torch.concat(institution)\n",
    "probs = torch.concat(probs)\n",
    "preds = torch.concat(preds) \n",
    "golds = torch.concat(golds)"
   ]
  },
  {
   "cell_type": "code",
   "execution_count": 13,
   "id": "cb88bc43",
   "metadata": {},
   "outputs": [
    {
     "data": {
      "text/plain": [
       "(torch.Size([63005]),\n",
       " torch.Size([63005, 2]),\n",
       " torch.Size([63005]),\n",
       " torch.Size([63005]))"
      ]
     },
     "execution_count": 13,
     "metadata": {},
     "output_type": "execute_result"
    }
   ],
   "source": [
    "institution.shape, probs.shape, preds.shape, golds.shape"
   ]
  },
  {
   "cell_type": "code",
   "execution_count": 17,
   "id": "203a0721",
   "metadata": {
    "scrolled": true
   },
   "outputs": [
    {
     "name": "stdout",
     "output_type": "stream",
     "text": [
      "Institution num 1\n",
      "OrderedDict([('accuracy', tensor(0.7425)), ('confusion_matrix', tensor([[2220,  272],\n",
      "        [ 803,  879]])), ('precision', tensor(0.7637)), ('recall', tensor(0.5226)), ('f1', tensor(0.6205)), ('pr_auc', tensor(0.7174)), ('roc_auc', tensor(0.8208))])\n",
      "Institution num 2\n",
      "OrderedDict([('accuracy', tensor(0.6547)), ('confusion_matrix', tensor([[1296,  464],\n",
      "        [ 700,  911]])), ('precision', tensor(0.6625)), ('recall', tensor(0.5655)), ('f1', tensor(0.6102)), ('pr_auc', tensor(0.6829)), ('roc_auc', tensor(0.7085))])\n",
      "Institution num 3\n",
      "OrderedDict([('accuracy', tensor(0.7694)), ('confusion_matrix', tensor([[2133,  317],\n",
      "        [ 706, 1281]])), ('precision', tensor(0.8016)), ('recall', tensor(0.6447)), ('f1', tensor(0.7146)), ('pr_auc', tensor(0.7920)), ('roc_auc', tensor(0.8366))])\n",
      "Institution num 4\n",
      "OrderedDict([('accuracy', tensor(0.7096)), ('confusion_matrix', tensor([[5718,  945],\n",
      "        [2714, 3222]])), ('precision', tensor(0.7732)), ('recall', tensor(0.5428)), ('f1', tensor(0.6378)), ('pr_auc', tensor(0.7664)), ('roc_auc', tensor(0.7996))])\n",
      "Institution num 5\n",
      "OrderedDict([('accuracy', tensor(0.7588)), ('confusion_matrix', tensor([[5192, 1277],\n",
      "        [2290, 6030]])), ('precision', tensor(0.8252)), ('recall', tensor(0.7248)), ('f1', tensor(0.7717)), ('pr_auc', tensor(0.8617)), ('roc_auc', tensor(0.8447))])\n",
      "Institution num 6\n",
      "OrderedDict([('accuracy', tensor(0.7043)), ('confusion_matrix', tensor([[3150,  523],\n",
      "        [1549, 1785]])), ('precision', tensor(0.7734)), ('recall', tensor(0.5354)), ('f1', tensor(0.6328)), ('pr_auc', tensor(0.7677)), ('roc_auc', tensor(0.8031))])\n",
      "Institution num 8\n",
      "OrderedDict([('accuracy', tensor(0.7154)), ('confusion_matrix', tensor([[3732, 1061],\n",
      "        [1804, 3470]])), ('precision', tensor(0.7658)), ('recall', tensor(0.6579)), ('f1', tensor(0.7078)), ('pr_auc', tensor(0.7936)), ('roc_auc', tensor(0.8025))])\n",
      "Institution num 10\n",
      "OrderedDict([('accuracy', tensor(0.7523)), ('confusion_matrix', tensor([[1685,  220],\n",
      "        [ 710, 1139]])), ('precision', tensor(0.8381)), ('recall', tensor(0.6160)), ('f1', tensor(0.7101)), ('pr_auc', tensor(0.8476)), ('roc_auc', tensor(0.8603))])\n",
      "Institution num 11\n",
      "OrderedDict([('accuracy', tensor(0.7627)), ('confusion_matrix', tensor([[1286,  116],\n",
      "        [ 550,  855]])), ('precision', tensor(0.8805)), ('recall', tensor(0.6085)), ('f1', tensor(0.7197)), ('pr_auc', tensor(0.8952)), ('roc_auc', tensor(0.9001))])\n"
     ]
    },
    {
     "name": "stderr",
     "output_type": "stream",
     "text": [
      "/Mounts/rbg-storage1/users/itamarc/miniconda3/envs/sybilx/lib/python3.8/site-packages/deprecate/deprecation.py:115: FutureWarning: The `f1` was deprecated since v0.7 in favor of `torchmetrics.functional.classification.f_beta.f1_score`. It will be removed in v0.8.\n",
      "  stream(template_mgs % msg_args)\n"
     ]
    }
   ],
   "source": [
    "metrics = get_object(\"classification\", \"metric\")(args)\n",
    "institution_metrics = {}\n",
    "for institution_num in set(institution.tolist()):\n",
    "    indx = np.where(institution == institution_num)\n",
    "    class_metrics = metrics({'probs': probs[indx],\n",
    "                   \"preds\": preds[indx],\n",
    "                   \"golds\": golds[indx]},\n",
    "                  args)\n",
    "    institution_metrics[institution_num] = class_metrics\n",
    "    print(f\"Institution num {institution_num}\")\n",
    "    print(class_metrics)"
   ]
  },
  {
   "cell_type": "code",
   "execution_count": null,
   "id": "c57b58bf",
   "metadata": {},
   "outputs": [],
   "source": []
  },
  {
   "cell_type": "code",
   "execution_count": 18,
   "id": "3a499edd",
   "metadata": {},
   "outputs": [],
   "source": [
    "import matplotlib.pyplot as plt"
   ]
  },
  {
   "cell_type": "code",
   "execution_count": 55,
   "id": "43dad375",
   "metadata": {},
   "outputs": [
    {
     "data": {
      "image/png": "[encoded data removed]",
      "text/plain": [
       "<Figure size 432x288 with 1 Axes>"
      ]
     },
     "metadata": {
      "needs_background": "light"
     },
     "output_type": "display_data"
    }
   ],
   "source": [
    "title = \"Number of Images per Institution (Train)\"\n",
    "plt.title(title)\n",
    "plt.title(title)\n",
    "bars = ax.bar(list(institution_metrics.keys()), [len(np.where(institution == institution_num)[0]) for institution_num in institution_metrics.keys()])\n",
    "plt.bar_label(bars)\n",
    "plt.bar(list(institution_metrics.keys()), [len(np.where(institution == institution_num)[0]) for institution_num in institution_metrics.keys()], \n",
    "        width=0.8, tick_label=list(institution_metrics.keys()))\n",
    "plt.show()"
   ]
  },
  {
   "cell_type": "code",
   "execution_count": 58,
   "id": "2d73e364",
   "metadata": {},
   "outputs": [
    {
     "data": {
      "image/png": "[encoded data removed]",
      "text/plain": [
       "<Figure size 432x288 with 1 Axes>"
      ]
     },
     "metadata": {
      "needs_background": "light"
     },
     "output_type": "display_data"
    }
   ],
   "source": [
    "# fig, ax = plt.plot()\n",
    "title = \"AUC per Institution (Train)\"\n",
    "plt.title(title)\n",
    "bars = ax.bar(list(institution_metrics.keys()), [np.round(m['roc_auc'], 2) for m in institution_metrics.values()])\n",
    "plt.bar_label(bars)\n",
    "plt.bar(list(institution_metrics.keys()), [m['roc_auc'] for m in institution_metrics.values()], \n",
    "        width=0.8, tick_label=list(institution_metrics.keys()))\n",
    "plt.show()"
   ]
  },
  {
   "cell_type": "code",
   "execution_count": 52,
   "id": "aa79b2c0",
   "metadata": {},
   "outputs": [
    {
     "data": {
      "image/png": "[encoded data removed]",
      "text/plain": [
       "<Figure size 432x288 with 1 Axes>"
      ]
     },
     "metadata": {
      "needs_background": "light"
     },
     "output_type": "display_data"
    }
   ],
   "source": [
    "title = \"Accuracy per Institution (Train)\"\n",
    "plt.title(title)\n",
    "bars = ax.bar(list(institution_metrics.keys()), [np.round(m['accuracy'], 2) for m in institution_metrics.values()])\n",
    "plt.bar_label(bars)\n",
    "plt.bar(list(institution_metrics.keys()), [m['accuracy'] for m in institution_metrics.values()], \n",
    "        width=0.8, tick_label=list(institution_metrics.keys()))\n",
    "plt.show()"
   ]
  },
  {
   "cell_type": "code",
   "execution_count": 53,
   "id": "6668887f",
   "metadata": {},
   "outputs": [
    {
     "data": {
      "image/png": "[encoded data removed]",
      "text/plain": [
       "<Figure size 432x288 with 1 Axes>"
      ]
     },
     "metadata": {
      "needs_background": "light"
     },
     "output_type": "display_data"
    }
   ],
   "source": [
    "title = \"F1 per Institution (Train)\"\n",
    "plt.title(title)\n",
    "bars = ax.bar(list(institution_metrics.keys()), [np.round(m['f1'], 2) for m in institution_metrics.values()])\n",
    "plt.bar_label(bars)\n",
    "plt.bar(list(institution_metrics.keys()), [m['f1'] for m in institution_metrics.values()], \n",
    "        width=0.8, tick_label=list(institution_metrics.keys()))\n",
    "plt.show()"
   ]
  },
  {
   "cell_type": "code",
   "execution_count": null,
   "id": "af25d1bd",
   "metadata": {},
   "outputs": [],
   "source": []
  },
  {
   "cell_type": "code",
   "execution_count": null,
   "id": "5aef3f70",
   "metadata": {},
   "outputs": [],
   "source": []
  },
  {
   "cell_type": "code",
   "execution_count": null,
   "id": "9574b8a5",
   "metadata": {},
   "outputs": [],
   "source": []
  },
  {
   "cell_type": "code",
   "execution_count": null,
   "id": "31b88a73",
   "metadata": {},
   "outputs": [],
   "source": []
  },
  {
   "cell_type": "markdown",
   "id": "0f49be09",
   "metadata": {},
   "source": [
    "## Dev Data"
   ]
  },
  {
   "cell_type": "code",
   "execution_count": 59,
   "id": "a6f0e55e",
   "metadata": {
    "scrolled": true
   },
   "outputs": [
    {
     "name": "stderr",
     "output_type": "stream",
     "text": [
      "100%|█████████████████████████████████████████████████████████████████████████████████████████████████████████████| 414/414 [16:47<00:00,  2.43s/it]\n"
     ]
    }
   ],
   "source": [
    "institution, probs, preds, golds = [], [], [], []\n",
    "# i = 0\n",
    "for batch_idx, batch in tqdm(enumerate(dev_dataset), total=len(dev_dataset)):\n",
    "    out = model.model(batch['x'])\n",
    "    loss, logging_dict, predictions = get_cross_entropy_loss(out, batch, model.model, args)\n",
    "    institution.append(batch['institution'])\n",
    "    probs.append(predictions['probs'])\n",
    "    preds.append(predictions['preds'])\n",
    "    golds.append(predictions['golds'])\n",
    "#     i += 1\n",
    "#     if i >= 10 :\n",
    "#         break"
   ]
  },
  {
   "cell_type": "code",
   "execution_count": 60,
   "id": "3ba6dcb7",
   "metadata": {},
   "outputs": [],
   "source": [
    "institution = torch.concat(institution)\n",
    "probs = torch.concat(probs)\n",
    "preds = torch.concat(preds) \n",
    "golds = torch.concat(golds)"
   ]
  },
  {
   "cell_type": "code",
   "execution_count": 61,
   "id": "d9b09414",
   "metadata": {},
   "outputs": [
    {
     "data": {
      "text/plain": [
       "(torch.Size([13241]),\n",
       " torch.Size([13241, 2]),\n",
       " torch.Size([13241]),\n",
       " torch.Size([13241]))"
      ]
     },
     "execution_count": 61,
     "metadata": {},
     "output_type": "execute_result"
    }
   ],
   "source": [
    "institution.shape, probs.shape, preds.shape, golds.shape"
   ]
  },
  {
   "cell_type": "code",
   "execution_count": 62,
   "id": "d5d93e32",
   "metadata": {
    "scrolled": true
   },
   "outputs": [
    {
     "name": "stdout",
     "output_type": "stream",
     "text": [
      "Institution num 1\n",
      "OrderedDict([('accuracy', tensor(0.8861)), ('confusion_matrix', tensor([[954, 100],\n",
      "        [ 24,  11]])), ('precision', tensor(0.0991)), ('recall', tensor(0.3143)), ('f1', tensor(0.1507)), ('pr_auc', tensor(0.0748)), ('roc_auc', tensor(0.6520))])\n",
      "Institution num 2\n",
      "OrderedDict([('accuracy', tensor(0.7889)), ('confusion_matrix', tensor([[676, 167],\n",
      "        [ 16,   8]])), ('precision', tensor(0.0457)), ('recall', tensor(0.3333)), ('f1', tensor(0.0804)), ('pr_auc', tensor(0.1136)), ('roc_auc', tensor(0.6652))])\n",
      "Institution num 3\n",
      "OrderedDict([('accuracy', tensor(0.8356)), ('confusion_matrix', tensor([[790, 138],\n",
      "        [ 20,  13]])), ('precision', tensor(0.0861)), ('recall', tensor(0.3939)), ('f1', tensor(0.1413)), ('pr_auc', tensor(0.0820)), ('roc_auc', tensor(0.7446))])\n",
      "Institution num 4\n",
      "OrderedDict([('accuracy', tensor(0.8207)), ('confusion_matrix', tensor([[2258,  451],\n",
      "        [  49,   30]])), ('precision', tensor(0.0624)), ('recall', tensor(0.3797)), ('f1', tensor(0.1071)), ('pr_auc', tensor(0.0510)), ('roc_auc', tensor(0.6725))])\n",
      "Institution num 5\n",
      "OrderedDict([('accuracy', tensor(0.7987)), ('confusion_matrix', tensor([[2073,  507],\n",
      "        [  31,   62]])), ('precision', tensor(0.1090)), ('recall', tensor(0.6667)), ('f1', tensor(0.1873)), ('pr_auc', tensor(0.1300)), ('roc_auc', tensor(0.8168))])\n",
      "Institution num 6\n",
      "OrderedDict([('accuracy', tensor(0.8508)), ('confusion_matrix', tensor([[1299,  192],\n",
      "        [  42,   35]])), ('precision', tensor(0.1542)), ('recall', tensor(0.4545)), ('f1', tensor(0.2303)), ('pr_auc', tensor(0.1299)), ('roc_auc', tensor(0.7676))])\n",
      "Institution num 8\n",
      "OrderedDict([('accuracy', tensor(0.7871)), ('confusion_matrix', tensor([[1488,  385],\n",
      "        [  31,   50]])), ('precision', tensor(0.1149)), ('recall', tensor(0.6173)), ('f1', tensor(0.1938)), ('pr_auc', tensor(0.2441)), ('roc_auc', tensor(0.7676))])\n",
      "Institution num 10\n",
      "OrderedDict([('accuracy', tensor(0.8763)), ('confusion_matrix', tensor([[700,  85],\n",
      "        [ 14,   1]])), ('precision', tensor(0.0116)), ('recall', tensor(0.0667)), ('f1', tensor(0.0198)), ('pr_auc', tensor(0.0205)), ('roc_auc', tensor(0.5773))])\n",
      "Institution num 11\n",
      "OrderedDict([('accuracy', tensor(0.8725)), ('confusion_matrix', tensor([[472,  51],\n",
      "        [ 18,   0]])), ('precision', tensor(0.)), ('recall', tensor(0.)), ('f1', tensor(0.)), ('pr_auc', tensor(0.0334)), ('roc_auc', tensor(0.5208))])\n"
     ]
    }
   ],
   "source": [
    "metrics = get_object(\"classification\", \"metric\")(args)\n",
    "institution_metrics = {}\n",
    "for institution_num in set(institution.tolist()):\n",
    "    indx = np.where(institution == institution_num)\n",
    "    class_metrics = metrics({'probs': probs[indx],\n",
    "                   \"preds\": preds[indx],\n",
    "                   \"golds\": golds[indx]},\n",
    "                  args)\n",
    "    institution_metrics[institution_num] = class_metrics\n",
    "    print(f\"Institution num {institution_num}\")\n",
    "    print(class_metrics)"
   ]
  },
  {
   "cell_type": "code",
   "execution_count": null,
   "id": "ec6f0fb1",
   "metadata": {},
   "outputs": [],
   "source": []
  },
  {
   "cell_type": "code",
   "execution_count": 63,
   "id": "a5085b17",
   "metadata": {},
   "outputs": [],
   "source": [
    "import matplotlib.pyplot as plt"
   ]
  },
  {
   "cell_type": "code",
   "execution_count": 64,
   "id": "507936bf",
   "metadata": {},
   "outputs": [
    {
     "data": {
      "text/plain": [
       "tensor([11, 11, 11,  ...,  4,  4,  4])"
      ]
     },
     "execution_count": 64,
     "metadata": {},
     "output_type": "execute_result"
    }
   ],
   "source": [
    "institution"
   ]
  },
  {
   "cell_type": "code",
   "execution_count": 65,
   "id": "b24587e8",
   "metadata": {},
   "outputs": [
    {
     "data": {
      "image/png": "[encoded data removed]",
      "text/plain": [
       "<Figure size 432x288 with 1 Axes>"
      ]
     },
     "metadata": {
      "needs_background": "light"
     },
     "output_type": "display_data"
    }
   ],
   "source": [
    "title = \"Number of Images per Institution (Dev)\"\n",
    "plt.title(title)\n",
    "plt.title(title)\n",
    "bars = ax.bar(list(institution_metrics.keys()), [len(np.where(institution == institution_num)[0]) for institution_num in institution_metrics.keys()])\n",
    "plt.bar_label(bars)\n",
    "plt.bar(list(institution_metrics.keys()), [len(np.where(institution == institution_num)[0]) for institution_num in institution_metrics.keys()], \n",
    "        width=0.8, tick_label=list(institution_metrics.keys()))\n",
    "plt.show()"
   ]
  },
  {
   "cell_type": "code",
   "execution_count": 66,
   "id": "0e5eba21",
   "metadata": {},
   "outputs": [
    {
     "data": {
      "image/png": "[encoded data removed]",
      "text/plain": [
       "<Figure size 432x288 with 1 Axes>"
      ]
     },
     "metadata": {
      "needs_background": "light"
     },
     "output_type": "display_data"
    }
   ],
   "source": [
    "# fig, ax = plt.plot()\n",
    "title = \"AUC per Institution (Dev)\"\n",
    "plt.title(title)\n",
    "bars = ax.bar(list(institution_metrics.keys()), [np.round(m['roc_auc'], 2) for m in institution_metrics.values()])\n",
    "plt.bar_label(bars)\n",
    "plt.bar(list(institution_metrics.keys()), [m['roc_auc'] for m in institution_metrics.values()], \n",
    "        width=0.8, tick_label=list(institution_metrics.keys()))\n",
    "plt.show()"
   ]
  },
  {
   "cell_type": "code",
   "execution_count": 67,
   "id": "3b7f6ce4",
   "metadata": {
    "scrolled": true
   },
   "outputs": [
    {
     "data": {
      "image/png": "[encoded data removed]",
      "text/plain": [
       "<Figure size 432x288 with 1 Axes>"
      ]
     },
     "metadata": {
      "needs_background": "light"
     },
     "output_type": "display_data"
    }
   ],
   "source": [
    "title = \"Accuracy per Institution (Dev)\"\n",
    "plt.title(title)\n",
    "bars = ax.bar(list(institution_metrics.keys()), [np.round(m['accuracy'], 2) for m in institution_metrics.values()])\n",
    "plt.bar_label(bars)\n",
    "plt.bar(list(institution_metrics.keys()), [m['accuracy'] for m in institution_metrics.values()], \n",
    "        width=0.8, tick_label=list(institution_metrics.keys()))\n",
    "plt.show()"
   ]
  },
  {
   "cell_type": "code",
   "execution_count": 68,
   "id": "afd934be",
   "metadata": {},
   "outputs": [
    {
     "data": {
      "image/png": "[encoded data removed]",
      "text/plain": [
       "<Figure size 432x288 with 1 Axes>"
      ]
     },
     "metadata": {
      "needs_background": "light"
     },
     "output_type": "display_data"
    }
   ],
   "source": [
    "title = \"F1 per Institution (Dev)\"\n",
    "plt.title(title)\n",
    "bars = ax.bar(list(institution_metrics.keys()), [np.round(m['f1'], 2) for m in institution_metrics.values()])\n",
    "plt.bar_label(bars)\n",
    "plt.bar(list(institution_metrics.keys()), [m['f1'] for m in institution_metrics.values()], \n",
    "        width=0.8, tick_label=list(institution_metrics.keys()))\n",
    "plt.show()"
   ]
  },
  {
   "cell_type": "code",
   "execution_count": null,
   "id": "0c390989",
   "metadata": {},
   "outputs": [],
   "source": []
  },
  {
   "cell_type": "code",
   "execution_count": null,
   "id": "f5f0dd82",
   "metadata": {},
   "outputs": [],
   "source": []
  },
  {
   "cell_type": "markdown",
   "id": "1db65d1c",
   "metadata": {},
   "source": [
    "## Test Data"
   ]
  },
  {
   "cell_type": "code",
   "execution_count": 69,
   "id": "c6232247",
   "metadata": {
    "scrolled": true
   },
   "outputs": [
    {
     "name": "stderr",
     "output_type": "stream",
     "text": [
      "100%|█████████████████████████████████████████████████████████████████████████████████████████████████████████████| 420/420 [20:55<00:00,  2.99s/it]\n"
     ]
    }
   ],
   "source": [
    "institution, probs, preds, golds = [], [], [], []\n",
    "# i = 0\n",
    "for batch_idx, batch in tqdm(enumerate(test_dataset), total=len(test_dataset)):\n",
    "    out = model.model(batch['x'])\n",
    "    loss, logging_dict, predictions = get_cross_entropy_loss(out, batch, model.model, args)\n",
    "    institution.append(batch['institution'])\n",
    "    probs.append(predictions['probs'])\n",
    "    preds.append(predictions['preds'])\n",
    "    golds.append(predictions['golds'])\n",
    "#     i += 1\n",
    "#     if i >= 10 :\n",
    "#         break"
   ]
  },
  {
   "cell_type": "code",
   "execution_count": 70,
   "id": "001f354c",
   "metadata": {},
   "outputs": [],
   "source": [
    "institution = torch.concat(institution)\n",
    "probs = torch.concat(probs)\n",
    "preds = torch.concat(preds) \n",
    "golds = torch.concat(golds)"
   ]
  },
  {
   "cell_type": "code",
   "execution_count": 71,
   "id": "d0246cf4",
   "metadata": {},
   "outputs": [
    {
     "data": {
      "text/plain": [
       "(torch.Size([13416]),\n",
       " torch.Size([13416, 2]),\n",
       " torch.Size([13416]),\n",
       " torch.Size([13416]))"
      ]
     },
     "execution_count": 71,
     "metadata": {},
     "output_type": "execute_result"
    }
   ],
   "source": [
    "institution.shape, probs.shape, preds.shape, golds.shape"
   ]
  },
  {
   "cell_type": "code",
   "execution_count": 72,
   "id": "9b81b3ec",
   "metadata": {
    "scrolled": true
   },
   "outputs": [
    {
     "name": "stdout",
     "output_type": "stream",
     "text": [
      "Institution num 1\n",
      "OrderedDict([('accuracy', tensor(0.8874)), ('confusion_matrix', tensor([[907, 108],\n",
      "        [  8,   7]])), ('precision', tensor(0.0609)), ('recall', tensor(0.4667)), ('f1', tensor(0.1077)), ('pr_auc', tensor(0.0766)), ('roc_auc', tensor(0.7861))])\n",
      "Institution num 2\n",
      "OrderedDict([('accuracy', tensor(0.7768)), ('confusion_matrix', tensor([[659, 177],\n",
      "        [ 17,  16]])), ('precision', tensor(0.0829)), ('recall', tensor(0.4848)), ('f1', tensor(0.1416)), ('pr_auc', tensor(0.1150)), ('roc_auc', tensor(0.6990))])\n",
      "Institution num 3\n",
      "OrderedDict([('accuracy', tensor(0.8413)), ('confusion_matrix', tensor([[796, 139],\n",
      "        [ 14,  15]])), ('precision', tensor(0.0974)), ('recall', tensor(0.5172)), ('f1', tensor(0.1639)), ('pr_auc', tensor(0.0933)), ('roc_auc', tensor(0.7048))])\n",
      "Institution num 4\n",
      "OrderedDict([('accuracy', tensor(0.8274)), ('confusion_matrix', tensor([[2390,  469],\n",
      "        [  37,   35]])), ('precision', tensor(0.0694)), ('recall', tensor(0.4861)), ('f1', tensor(0.1215)), ('pr_auc', tensor(0.0838)), ('roc_auc', tensor(0.7316))])\n",
      "Institution num 5\n",
      "OrderedDict([('accuracy', tensor(0.7969)), ('confusion_matrix', tensor([[2151,  510],\n",
      "        [  65,  105]])), ('precision', tensor(0.1707)), ('recall', tensor(0.6176)), ('f1', tensor(0.2675)), ('pr_auc', tensor(0.2375)), ('roc_auc', tensor(0.7936))])\n",
      "Institution num 6\n",
      "OrderedDict([('accuracy', tensor(0.8502)), ('confusion_matrix', tensor([[1177,  192],\n",
      "        [  20,   26]])), ('precision', tensor(0.1193)), ('recall', tensor(0.5652)), ('f1', tensor(0.1970)), ('pr_auc', tensor(0.1770)), ('roc_auc', tensor(0.8028))])\n",
      "Institution num 8\n",
      "OrderedDict([('accuracy', tensor(0.7797)), ('confusion_matrix', tensor([[1445,  394],\n",
      "        [  24,   34]])), ('precision', tensor(0.0794)), ('recall', tensor(0.5862)), ('f1', tensor(0.1399)), ('pr_auc', tensor(0.0808)), ('roc_auc', tensor(0.7501))])\n",
      "Institution num 10\n",
      "OrderedDict([('accuracy', tensor(0.8304)), ('confusion_matrix', tensor([[698, 122],\n",
      "        [ 24,  17]])), ('precision', tensor(0.1223)), ('recall', tensor(0.4146)), ('f1', tensor(0.1889)), ('pr_auc', tensor(0.1011)), ('roc_auc', tensor(0.7335))])\n",
      "Institution num 11\n",
      "OrderedDict([('accuracy', tensor(0.8786)), ('confusion_matrix', tensor([[530,  56],\n",
      "        [ 19,  13]])), ('precision', tensor(0.1884)), ('recall', tensor(0.4062)), ('f1', tensor(0.2574)), ('pr_auc', tensor(0.1860)), ('roc_auc', tensor(0.7978))])\n"
     ]
    }
   ],
   "source": [
    "metrics = get_object(\"classification\", \"metric\")(args)\n",
    "institution_metrics = {}\n",
    "for institution_num in set(institution.tolist()):\n",
    "    indx = np.where(institution == institution_num)\n",
    "    class_metrics = metrics({'probs': probs[indx],\n",
    "                   \"preds\": preds[indx],\n",
    "                   \"golds\": golds[indx]},\n",
    "                  args)\n",
    "    institution_metrics[institution_num] = class_metrics\n",
    "    print(f\"Institution num {institution_num}\")\n",
    "    print(class_metrics)"
   ]
  },
  {
   "cell_type": "code",
   "execution_count": null,
   "id": "01b47fe0",
   "metadata": {},
   "outputs": [],
   "source": []
  },
  {
   "cell_type": "code",
   "execution_count": 73,
   "id": "719053bb",
   "metadata": {},
   "outputs": [],
   "source": [
    "import matplotlib.pyplot as plt"
   ]
  },
  {
   "cell_type": "code",
   "execution_count": 74,
   "id": "f6bce497",
   "metadata": {},
   "outputs": [
    {
     "data": {
      "text/plain": [
       "tensor([11, 11, 11,  ..., 11,  4,  4])"
      ]
     },
     "execution_count": 74,
     "metadata": {},
     "output_type": "execute_result"
    }
   ],
   "source": [
    "institution"
   ]
  },
  {
   "cell_type": "code",
   "execution_count": null,
   "id": "717eb532",
   "metadata": {},
   "outputs": [],
   "source": [
    "title = \"Number of Images per Institution (Test)\"\n",
    "plt.title(title)\n",
    "plt.title(title)\n",
    "bars = ax.bar(list(institution_metrics.keys()), [len(np.where(institution == institution_num)[0]) for institution_num in institution_metrics.keys()])\n",
    "plt.bar_label(bars)\n",
    "plt.bar(list(institution_metrics.keys()), [len(np.where(institution == institution_num)[0]) for institution_num in institution_metrics.keys()], \n",
    "        width=0.8, tick_label=list(institution_metrics.keys()))\n",
    "plt.show()"
   ]
  },
  {
   "cell_type": "code",
   "execution_count": 79,
   "id": "d8311f7c",
   "metadata": {},
   "outputs": [
    {
     "data": {
      "image/png": "[encoded data removed]",
      "text/plain": [
       "<Figure size 432x288 with 1 Axes>"
      ]
     },
     "metadata": {
      "needs_background": "light"
     },
     "output_type": "display_data"
    }
   ],
   "source": [
    "# fig, ax = plt.plot()\n",
    "title = \"AUC per Institution (Test)\"\n",
    "plt.title(title)\n",
    "bars = ax.bar(list(institution_metrics.keys()), [np.round(m['roc_auc'], 2) for m in institution_metrics.values()])\n",
    "plt.bar_label(bars)\n",
    "plt.bar(list(institution_metrics.keys()), [m['roc_auc'] for m in institution_metrics.values()], \n",
    "        width=0.8, tick_label=list(institution_metrics.keys()))\n",
    "plt.show()"
   ]
  },
  {
   "cell_type": "code",
   "execution_count": 80,
   "id": "ec380d9d",
   "metadata": {
    "scrolled": true
   },
   "outputs": [
    {
     "data": {
      "image/png": "[encoded data removed]",
      "text/plain": [
       "<Figure size 432x288 with 1 Axes>"
      ]
     },
     "metadata": {
      "needs_background": "light"
     },
     "output_type": "display_data"
    }
   ],
   "source": [
    "title = \"Accuracy per Institution (Test)\"\n",
    "plt.title(title)\n",
    "bars = ax.bar(list(institution_metrics.keys()), [np.round(m['accuracy'], 2) for m in institution_metrics.values()])\n",
    "plt.bar_label(bars)\n",
    "plt.bar(list(institution_metrics.keys()), [m['accuracy'] for m in institution_metrics.values()], \n",
    "        width=0.8, tick_label=list(institution_metrics.keys()))\n",
    "plt.show()"
   ]
  },
  {
   "cell_type": "code",
   "execution_count": 81,
   "id": "4a5e2ab7",
   "metadata": {},
   "outputs": [
    {
     "data": {
      "image/png": "[encoded data removed]",
      "text/plain": [
       "<Figure size 432x288 with 1 Axes>"
      ]
     },
     "metadata": {
      "needs_background": "light"
     },
     "output_type": "display_data"
    }
   ],
   "source": [
    "title = \"F1 per Institution (Test)\"\n",
    "plt.title(title)\n",
    "bars = ax.bar(list(institution_metrics.keys()), [np.round(m['f1'], 2) for m in institution_metrics.values()])\n",
    "plt.bar_label(bars)\n",
    "plt.bar(list(institution_metrics.keys()), [m['f1'] for m in institution_metrics.values()], \n",
    "        width=0.8, tick_label=list(institution_metrics.keys()))\n",
    "plt.show()"
   ]
  },
  {
   "cell_type": "code",
   "execution_count": null,
   "id": "d8fc9ccc",
   "metadata": {},
   "outputs": [],
   "source": []
  },
  {
   "cell_type": "code",
   "execution_count": null,
   "id": "280323d7",
   "metadata": {},
   "outputs": [],
   "source": []
  }
 ],
 "metadata": {
  "kernelspec": {
   "display_name": "Python 3 (ipykernel)",
   "language": "python",
   "name": "python3"
  },
  "language_info": {
   "codemirror_mode": {
    "name": "ipython",
    "version": 3
   },
   "file_extension": ".py",
   "mimetype": "text/x-python",
   "name": "python",
   "nbconvert_exporter": "python",
   "pygments_lexer": "ipython3",
   "version": "3.8.5"
  }
 },
 "nbformat": 4,
 "nbformat_minor": 5
}
