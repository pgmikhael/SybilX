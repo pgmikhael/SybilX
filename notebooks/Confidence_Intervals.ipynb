{
 "cells": [
  {
   "cell_type": "code",
   "execution_count": 2,
   "id": "4faee930",
   "metadata": {},
   "outputs": [
    {
     "ename": "ModuleNotFoundError",
     "evalue": "No module named 'torchmetrics'",
     "output_type": "error",
     "traceback": [
      "\u001b[0;31m---------------------------------------------------------------------------\u001b[0m",
      "\u001b[0;31mModuleNotFoundError\u001b[0m                       Traceback (most recent call last)",
      "Input \u001b[0;32mIn [2]\u001b[0m, in \u001b[0;36m<cell line: 14>\u001b[0;34m()\u001b[0m\n\u001b[1;32m     11\u001b[0m \u001b[38;5;28;01mfrom\u001b[39;00m \u001b[38;5;21;01mpprint\u001b[39;00m \u001b[38;5;28;01mimport\u001b[39;00m pprint\n\u001b[1;32m     12\u001b[0m \u001b[38;5;28;01mimport\u001b[39;00m \u001b[38;5;21;01mmatplotlib\u001b[39;00m\u001b[38;5;21;01m.\u001b[39;00m\u001b[38;5;21;01mpyplot\u001b[39;00m \u001b[38;5;28;01mas\u001b[39;00m \u001b[38;5;21;01mplt\u001b[39;00m\n\u001b[0;32m---> 14\u001b[0m \u001b[38;5;28;01mfrom\u001b[39;00m \u001b[38;5;21;01mtorchmetrics\u001b[39;00m\u001b[38;5;21;01m.\u001b[39;00m\u001b[38;5;21;01mfunctional\u001b[39;00m \u001b[38;5;28;01mimport\u001b[39;00m auroc\n",
      "\u001b[0;31mModuleNotFoundError\u001b[0m: No module named 'torchmetrics'"
     ]
    }
   ],
   "source": [
    "import numpy as np\n",
    "import tqdm\n",
    "import sklearn.metrics\n",
    "import json\n",
    "import pickle\n",
    "import pandas as pd\n",
    "import torch\n",
    "import cv2\n",
    "from pathlib import Path\n",
    "from collections import Counter\n",
    "from pprint import pprint\n",
    "import matplotlib.pyplot as plt\n",
    "\n",
    "from torchmetrics.functional import auroc"
   ]
  },
  {
   "cell_type": "code",
   "execution_count": 3,
   "id": "bf2665ef",
   "metadata": {},
   "outputs": [
    {
     "name": "stdout",
     "output_type": "stream",
     "text": [
      "Collecting torchmetrics\n",
      "  Downloading torchmetrics-0.7.3-py3-none-any.whl (398 kB)\n",
      "\u001b[2K     \u001b[90m━━━━━━━━━━━━━━━━━━━━━━━━━━━━━━━━━━━━━━━\u001b[0m \u001b[32m398.2/398.2 KB\u001b[0m \u001b[31m3.2 MB/s\u001b[0m eta \u001b[36m0:00:00\u001b[0m00:01\u001b[0m\n",
      "\u001b[?25hRequirement already satisfied: numpy>=1.17.2 in /Mounts/rbg-storage1/users/ludvig/miniforge3/envs/datascience/lib/python3.9/site-packages (from torchmetrics) (1.21.5)\n",
      "Requirement already satisfied: packaging in /Mounts/rbg-storage1/users/ludvig/miniforge3/envs/datascience/lib/python3.9/site-packages (from torchmetrics) (21.3)\n",
      "Requirement already satisfied: torch>=1.3.1 in /Mounts/rbg-storage1/users/ludvig/miniforge3/envs/datascience/lib/python3.9/site-packages (from torchmetrics) (1.11.0)\n",
      "Collecting pyDeprecate==0.3.*\n",
      "  Downloading pyDeprecate-0.3.2-py3-none-any.whl (10 kB)\n",
      "Requirement already satisfied: typing-extensions in /Mounts/rbg-storage1/users/ludvig/miniforge3/envs/datascience/lib/python3.9/site-packages (from torch>=1.3.1->torchmetrics) (4.1.1)\n",
      "Requirement already satisfied: pyparsing!=3.0.5,>=2.0.2 in /Mounts/rbg-storage1/users/ludvig/miniforge3/envs/datascience/lib/python3.9/site-packages (from packaging->torchmetrics) (3.0.7)\n",
      "Installing collected packages: pyDeprecate, torchmetrics\n",
      "Successfully installed pyDeprecate-0.3.2 torchmetrics-0.7.3\n"
     ]
    }
   ],
   "source": [
    "!pip install torchmetrics"
   ]
  },
  {
   "cell_type": "code",
   "execution_count": 4,
   "id": "5110a4e5",
   "metadata": {},
   "outputs": [],
   "source": [
    "RESAMPLE_FAILED_WARNING = \"Resampling distrubution for estimator {} failed because of : {}\"\n",
    "CONFIDENCE_INTERVAL_EXCEPTION = \"Cannot calculate confidence interval. Sampled {} times for found {} (target {}) valid samples.\"\n",
    "\n",
    "def ci_bounds(mean, deltas, confidence_interval, num_resamples):\n",
    "    '''\n",
    "    Returns the lower and upper bounds of the confidence interval.\n",
    "    mean : the empirical mean\n",
    "    deltas : deltas from the empirical mean from different samples\n",
    "    '''\n",
    "    deltas = np.sort(deltas)\n",
    "    index_offset = int((1 - confidence_interval)/2. * num_resamples)\n",
    "    lower_delta, upper_delta = deltas[index_offset], deltas[-index_offset]\n",
    "    lower_bound, upper_bound = mean - upper_delta, mean - lower_delta\n",
    "    return lower_bound, upper_bound\n",
    "\n",
    "\n",
    "def confidence_interval(confidence_interval, num_resamples, emperical_distribution, estimator=np.mean, clusters=None):\n",
    "    '''\n",
    "    Estimates confidence interval of the mean of emperical_distribution\n",
    "    using emperical bootstrap. Method details are available at:\n",
    "    https://ocw.mit.edu/courses/mathematics/18-05-introduction-to-probability-and-statistics-spring-2014/readings/MIT18_05S14_Reading24.pdf\n",
    "    -confidence_interval: Amount of probability mass interval should cover.\n",
    "    -num_resamples: Amount of trails to use to estimate confidence interval.\n",
    "    Should as large as computationally feasiable.\n",
    "    -emperical_distribution: Emperical distributions for which we want to\n",
    "    estimate the confidence interval of the mean\n",
    "    if Clusters is not none, perform two stage bootstrap.\n",
    "    '''\n",
    "\n",
    "    emp_mean = estimator(emperical_distribution)\n",
    "    num_samples = len(emperical_distribution)\n",
    "    deltas = []\n",
    "    num_tries = 0\n",
    "    if clusters is not None:\n",
    "        cluster_to_inds = {}\n",
    "        for ind, cluster in enumerate(clusters):\n",
    "            if cluster not in cluster_to_inds:\n",
    "                cluster_to_inds[cluster] = []\n",
    "            cluster_to_inds[cluster].append(ind)\n",
    "        num_clusters = len(cluster_to_inds)\n",
    "        cluster_ids = list(cluster_to_inds.keys())\n",
    "\n",
    "    while len(deltas) < num_resamples:\n",
    "        if num_tries > num_resamples * 10:\n",
    "            raise Exception(CONFIDENCE_INTERVAL_EXCEPTION.format(num_tries, len(deltas), num_resamples))\n",
    "        num_tries += 1\n",
    "        try:\n",
    "            if clusters is None:\n",
    "                resample_ind = np.random.choice(a=range(len(emperical_distribution)),\n",
    "                                        size=num_samples,\n",
    "                                        replace=True\n",
    "                                        )\n",
    "            else:\n",
    "                resample_clusters = np.random.choice(a=cluster_ids,\n",
    "                                                    size=num_clusters,\n",
    "                                                    replace=True)\n",
    "                resample_ind = []\n",
    "                for cluster in resample_clusters:\n",
    "                    resampled_inds_for_cluster = np.random.choice(a=cluster_to_inds[cluster],\n",
    "                                                                size=len(cluster_to_inds[cluster]),\n",
    "                                                                replace=True)\n",
    "                    resample_ind.extend(resampled_inds_for_cluster)\n",
    "\n",
    "            resample_dist = [ emperical_distribution[ind] for ind in resample_ind]\n",
    "            delta = estimator(resample_dist) - emp_mean\n",
    "            deltas.append( delta )\n",
    "        except Exception as e:\n",
    "            warnings.warn(RESAMPLE_FAILED_WARNING.format(estimator, e))\n",
    "\n",
    "    lower_bound, upper_bound = ci_bounds(emp_mean, deltas, confidence_interval, num_resamples)\n",
    "\n",
    "    return (lower_bound, upper_bound)\n",
    "\n",
    "def resample_set_by_distribution(sets, probs, length):\n",
    "    '''\n",
    "    Returns a new set by sampling from the given sets with repetitions by the given probs.\n",
    "    sets : list of sets to sample from\n",
    "    probs : list of probability for each set (should sum to 1)\n",
    "    length : length of the new built set\n",
    "    Returns the new set and an np.array with the set index for each element in the new array.\n",
    "    '''\n",
    "\n",
    "    probs_array = np.array([])\n",
    "    concat_array = np.array([])\n",
    "    set_inds = np.array([])\n",
    "    for i, cur_set in enumerate(sets):\n",
    "        cur_probs = np.ones((len(cur_set))) * probs[i] / len(cur_set)\n",
    "        probs_array = np.append(probs_array, cur_probs)\n",
    "        concat_array = np.append(concat_array, cur_set)\n",
    "        set_inds = np.append(set_inds, np.ones(len(cur_set))*i)\n",
    "\n",
    "    idx = np.random.choice(np.arange(len(concat_array)), size=length, replace=True, p=probs_array)\n",
    "    return concat_array[idx], set_inds[idx]"
   ]
  },
  {
   "cell_type": "markdown",
   "id": "1dc323de",
   "metadata": {},
   "source": [
    "## Load Data"
   ]
  },
  {
   "cell_type": "code",
   "execution_count": 9,
   "id": "7ae37bc8",
   "metadata": {},
   "outputs": [],
   "source": [
    "HIDDENS_DIR = '/Mounts/rbg-storage1/users/ludvig/SybilX/hiddens/test_run'\n",
    "RUN_NAME = 'fd123f28a2fcd6290477d6b12300c0e6'"
   ]
  },
  {
   "cell_type": "code",
   "execution_count": 11,
   "id": "4318f91f",
   "metadata": {},
   "outputs": [
    {
     "ename": "RuntimeError",
     "evalue": "stack expects a non-empty TensorList",
     "output_type": "error",
     "traceback": [
      "\u001b[0;31m---------------------------------------------------------------------------\u001b[0m",
      "\u001b[0;31mRuntimeError\u001b[0m                              Traceback (most recent call last)",
      "Input \u001b[0;32mIn [11]\u001b[0m, in \u001b[0;36m<cell line: 14>\u001b[0;34m()\u001b[0m\n\u001b[1;32m     11\u001b[0m     preds\u001b[38;5;241m.\u001b[39mappend(p[\u001b[38;5;124m'\u001b[39m\u001b[38;5;124mpreds\u001b[39m\u001b[38;5;124m'\u001b[39m])\n\u001b[1;32m     12\u001b[0m     exams\u001b[38;5;241m.\u001b[39mappend(p[\u001b[38;5;124m'\u001b[39m\u001b[38;5;124mexam\u001b[39m\u001b[38;5;124m'\u001b[39m])\n\u001b[0;32m---> 14\u001b[0m probs \u001b[38;5;241m=\u001b[39m \u001b[43mtorch\u001b[49m\u001b[38;5;241;43m.\u001b[39;49m\u001b[43mstack\u001b[49m\u001b[43m(\u001b[49m\u001b[43mprobs\u001b[49m\u001b[43m)\u001b[49m\n\u001b[1;32m     15\u001b[0m golds \u001b[38;5;241m=\u001b[39m torch\u001b[38;5;241m.\u001b[39mstack(golds)\n\u001b[1;32m     16\u001b[0m preds \u001b[38;5;241m=\u001b[39m torch\u001b[38;5;241m.\u001b[39mstack(preds)\n",
      "\u001b[0;31mRuntimeError\u001b[0m: stack expects a non-empty TensorList"
     ]
    }
   ],
   "source": [
    "probs = []\n",
    "golds = []\n",
    "preds = []\n",
    "exams = []\n",
    "for i, path in enumerate(Path(HIDDENS_DIR, RUN_NAME).glob('*.predictions')):\n",
    "    #print(path)\n",
    "    p = pickle.load(open(str(path), 'rb'))\n",
    "    \n",
    "    probs.append(p['probs'])\n",
    "    golds.append(p['golds'])\n",
    "    preds.append(p['preds'])\n",
    "    exams.append(p['exam'])\n",
    "\n",
    "probs = torch.stack(probs)\n",
    "golds = torch.stack(golds)\n",
    "preds = torch.stack(preds)\n",
    "exams = torch.stack(exams)\n",
    "\n",
    "golds.shape, preds.shape"
   ]
  },
  {
   "cell_type": "markdown",
   "id": "5173f065",
   "metadata": {},
   "source": [
    "## Get metadata\n",
    "### PLCO"
   ]
  },
  {
   "cell_type": "code",
   "execution_count": null,
   "id": "e8bcb96d",
   "metadata": {},
   "outputs": [],
   "source": [
    "DATASET_PATH = '/Mounts/rbg-storage1/datasets/PLCO_XRAY/metadata_2022_03_05.json'\n",
    "metadata = json.load(open(DATASET_PATH, 'r'))\n",
    "exam2pid = {}\n",
    "exam2split = {}\n",
    "for p in metadata:\n",
    "    pid = p['pid']\n",
    "    for e in p['accessions']:\n",
    "        study_yr = e['study_yr']\n",
    "        \n",
    "        pid_int = int( str(ord(pid[0])) + ''.join(c for c in pid if c.isdigit()) )\n",
    "        exam_int = int(f\"{int(pid_int)}{int(study_yr)}\")\n",
    "        \n",
    "        exam2pid[exam_int] = pid\n",
    "        exam2split[exam_int] = p['split']\n",
    "    \n",
    "pids = [exam2pid[exam.item()] for exam in exams]"
   ]
  },
  {
   "cell_type": "code",
   "execution_count": null,
   "id": "cf737fdb",
   "metadata": {},
   "outputs": [],
   "source": []
  },
  {
   "cell_type": "markdown",
   "id": "35b7ade2",
   "metadata": {},
   "source": [
    "### NLST"
   ]
  },
  {
   "cell_type": "code",
   "execution_count": null,
   "id": "467b9f63",
   "metadata": {},
   "outputs": [],
   "source": [
    "DATASET_PATH = '/Mounts/rbg-storage1/datasets/ACRIN_XRAY/xray_dataset.json'\n",
    "metadata = json.load(open(DATASET_PATH, 'r'))\n",
    "exam2pid = {}\n",
    "for p in metadata:\n",
    "    pid = p['pid']\n",
    "    for e in p['accessions']:\n",
    "        screen_timepoint = e[\"screen_timepoint\"]\n",
    "        for s in e['image_series']: # seperate examno for each series???\n",
    "            #study_yr = e['study_yr']\n",
    "            series_id = s[\"series_id\"]\n",
    "\n",
    "            exam_int = int(f\"{int(pid)}{int(screen_timepoint)}{int(series_id.split('.')[-1][-3:])}\")\n",
    "\n",
    "            exam2pid[exam_int] = pid\n",
    "    \n",
    "pids = [exam2pid[exam.item()] for exam in exams]"
   ]
  },
  {
   "cell_type": "markdown",
   "id": "e47fa82c",
   "metadata": {},
   "source": [
    "### create input to CI"
   ]
  },
  {
   "cell_type": "code",
   "execution_count": null,
   "id": "d77e9609",
   "metadata": {},
   "outputs": [],
   "source": [
    "exam2split[exams[0].item()]"
   ]
  },
  {
   "cell_type": "code",
   "execution_count": null,
   "id": "2b37df9f",
   "metadata": {},
   "outputs": [],
   "source": [
    "emp_dist = list(zip(probs, golds))\n",
    "#splits = [exam2split[e.item()] for e in exams]\n",
    "                \n",
    "# filter to only test DOESN'T WORK, ONLY USES STATIC SPLITS\n",
    "#emp_dist_test = [x for i,x in enumerate(emp_dist) if splits[i] == 'test']\n",
    "#pids_test = [x for i,x in enumerate(pids) if splits[i] == 'test']\n",
    "\n",
    "#len(emp_dist_test)"
   ]
  },
  {
   "cell_type": "markdown",
   "id": "74f3b5a2",
   "metadata": {},
   "source": [
    "## Compute Confidence Interval"
   ]
  },
  {
   "cell_type": "code",
   "execution_count": null,
   "id": "74dc6c62",
   "metadata": {},
   "outputs": [],
   "source": []
  },
  {
   "cell_type": "code",
   "execution_count": null,
   "id": "2a323f56",
   "metadata": {},
   "outputs": [],
   "source": [
    "def estimator(ed_tups):\n",
    "    prob = list(map(lambda x: x[0], ed_tups))\n",
    "    gold = list(map(lambda x: x[1], ed_tups))\n",
    "    prob = torch.stack(prob)\n",
    "    gold = torch.stack(gold)\n",
    "    \n",
    "    return auroc(prob, gold, pos_label=1, num_classes=2)\n"
   ]
  },
  {
   "cell_type": "code",
   "execution_count": null,
   "id": "441209e0",
   "metadata": {},
   "outputs": [
    {
     "data": {
      "text/plain": [
       "(0.575, 0.65)"
      ]
     },
     "execution_count": 32,
     "metadata": {},
     "output_type": "execute_result"
    }
   ],
   "source": [
    "low, high = confidence_interval(0.95, 5000, emp_dist, estimator, clusters=pids)\n",
    "np.round(low.item(), 3), np.round(high.item(), 3)"
   ]
  },
  {
   "cell_type": "code",
   "execution_count": null,
   "id": "928af8d1",
   "metadata": {},
   "outputs": [],
   "source": []
  },
  {
   "cell_type": "code",
   "execution_count": null,
   "id": "c9f3f81e",
   "metadata": {},
   "outputs": [],
   "source": []
  },
  {
   "cell_type": "markdown",
   "id": "d0bce310",
   "metadata": {},
   "source": [
    "### Comparison of ours vs CXR-LC's splits"
   ]
  },
  {
   "cell_type": "code",
   "execution_count": 3,
   "id": "7e4489ed",
   "metadata": {},
   "outputs": [],
   "source": [
    "CXR_LC_PATIENT_SPLITS_FILENAME = (\"/Mounts/rbg-storage1/datasets/PLCO_XRAY/patient2split_cxr_lc.pkl\")\n",
    "CXR_LC_IMAGE_SPLITS_FILENAME = (\"/Mounts/rbg-storage1/datasets/PLCO_XRAY/image2split_cxr_lc.pkl\")"
   ]
  },
  {
   "cell_type": "code",
   "execution_count": 40,
   "id": "933dc0ea",
   "metadata": {},
   "outputs": [],
   "source": [
    "patient_splits = pickle.load(open(CXR_LC_PATIENT_SPLITS_FILENAME, \"rb\"))\n",
    "image_splits = pickle.load(open(CXR_LC_IMAGE_SPLITS_FILENAME, \"rb\"))"
   ]
  },
  {
   "cell_type": "code",
   "execution_count": 41,
   "id": "997a4543",
   "metadata": {},
   "outputs": [],
   "source": [
    "PLCO_METADATA_JSON_PATH = \"/Mounts/rbg-storage1/datasets/PLCO_XRAY/metadata_2022_03_05.json\"\n",
    "plco_metadata = json.load(open(PLCO_METADATA_JSON_PATH, \"r\"))"
   ]
  },
  {
   "cell_type": "code",
   "execution_count": null,
   "id": "79a28603",
   "metadata": {},
   "outputs": [],
   "source": [
    "patient_splits_df = pd.DataFrame"
   ]
  },
  {
   "cell_type": "code",
   "execution_count": null,
   "id": "3f572b51",
   "metadata": {},
   "outputs": [],
   "source": []
  },
  {
   "cell_type": "code",
   "execution_count": 61,
   "id": "da33ef3f",
   "metadata": {},
   "outputs": [],
   "source": [
    "# convert to df\n",
    "patient_splits_df = pd.DataFrame({'plco_pid': patient_splits.keys(),\n",
    "                               'split': [list(val)[0] for val in patient_splits.values()]})\n",
    "image_splits_df = pd.DataFrame({'filename': image_splits.keys(), 'split': image_splits.values()})"
   ]
  },
  {
   "cell_type": "code",
   "execution_count": null,
   "id": "92e31b1d",
   "metadata": {},
   "outputs": [],
   "source": []
  },
  {
   "cell_type": "code",
   "execution_count": 56,
   "id": "236d9477",
   "metadata": {},
   "outputs": [
    {
     "data": {
      "text/html": [
       "<div>\n",
       "<style scoped>\n",
       "    .dataframe tbody tr th:only-of-type {\n",
       "        vertical-align: middle;\n",
       "    }\n",
       "\n",
       "    .dataframe tbody tr th {\n",
       "        vertical-align: top;\n",
       "    }\n",
       "\n",
       "    .dataframe thead th {\n",
       "        text-align: right;\n",
       "    }\n",
       "</style>\n",
       "<table border=\"1\" class=\"dataframe\">\n",
       "  <thead>\n",
       "    <tr style=\"text-align: right;\">\n",
       "      <th></th>\n",
       "      <th>pid</th>\n",
       "      <th>filename</th>\n",
       "      <th>patient_split</th>\n",
       "      <th>image_split</th>\n",
       "    </tr>\n",
       "  </thead>\n",
       "  <tbody>\n",
       "    <tr>\n",
       "      <th>0</th>\n",
       "      <td>T-083431-8</td>\n",
       "      <td>AI02934081407133557_v2.tif</td>\n",
       "      <td>Te</td>\n",
       "      <td>Te</td>\n",
       "    </tr>\n",
       "    <tr>\n",
       "      <th>1</th>\n",
       "      <td>T-083431-8</td>\n",
       "      <td>AI02934081407133916_v2.tif</td>\n",
       "      <td>Te</td>\n",
       "      <td>-1</td>\n",
       "    </tr>\n",
       "    <tr>\n",
       "      <th>2</th>\n",
       "      <td>T-083431-8</td>\n",
       "      <td>AI02934081407134032_v2.tif</td>\n",
       "      <td>Te</td>\n",
       "      <td>-1</td>\n",
       "    </tr>\n",
       "    <tr>\n",
       "      <th>3</th>\n",
       "      <td>T-083431-8</td>\n",
       "      <td>AI02934081407133724_v2.tif</td>\n",
       "      <td>Te</td>\n",
       "      <td>-1</td>\n",
       "    </tr>\n",
       "    <tr>\n",
       "      <th>4</th>\n",
       "      <td>Y-086037-1</td>\n",
       "      <td>AC01367021006152811_v2.tif</td>\n",
       "      <td>Tr</td>\n",
       "      <td>-1</td>\n",
       "    </tr>\n",
       "    <tr>\n",
       "      <th>...</th>\n",
       "      <td>...</td>\n",
       "      <td>...</td>\n",
       "      <td>...</td>\n",
       "      <td>...</td>\n",
       "    </tr>\n",
       "    <tr>\n",
       "      <th>89711</th>\n",
       "      <td>T-032473-1</td>\n",
       "      <td>AJ06916110206120921_v2.tif</td>\n",
       "      <td>Tr</td>\n",
       "      <td>Tr</td>\n",
       "    </tr>\n",
       "    <tr>\n",
       "      <th>89712</th>\n",
       "      <td>U-005771-2</td>\n",
       "      <td>AF0590773107100124_v2.tif</td>\n",
       "      <td>Tu</td>\n",
       "      <td>Tu</td>\n",
       "    </tr>\n",
       "    <tr>\n",
       "      <th>89713</th>\n",
       "      <td>N-085998-6</td>\n",
       "      <td>AG06296080907113637_v2.tif</td>\n",
       "      <td>Tu</td>\n",
       "      <td>Tu</td>\n",
       "    </tr>\n",
       "    <tr>\n",
       "      <th>89714</th>\n",
       "      <td>G-036878-9</td>\n",
       "      <td>AC01397062306135648_v2.tif</td>\n",
       "      <td>Tu</td>\n",
       "      <td>Tu</td>\n",
       "    </tr>\n",
       "    <tr>\n",
       "      <th>89715</th>\n",
       "      <td>V-115923-6</td>\n",
       "      <td>AH05379031706121403_v2.tif</td>\n",
       "      <td>-1</td>\n",
       "      <td>-1</td>\n",
       "    </tr>\n",
       "  </tbody>\n",
       "</table>\n",
       "<p>89716 rows × 4 columns</p>\n",
       "</div>"
      ],
      "text/plain": [
       "              pid                    filename patient_split image_split\n",
       "0      T-083431-8  AI02934081407133557_v2.tif            Te          Te\n",
       "1      T-083431-8  AI02934081407133916_v2.tif            Te          -1\n",
       "2      T-083431-8  AI02934081407134032_v2.tif            Te          -1\n",
       "3      T-083431-8  AI02934081407133724_v2.tif            Te          -1\n",
       "4      Y-086037-1  AC01367021006152811_v2.tif            Tr          -1\n",
       "...           ...                         ...           ...         ...\n",
       "89711  T-032473-1  AJ06916110206120921_v2.tif            Tr          Tr\n",
       "89712  U-005771-2   AF0590773107100124_v2.tif            Tu          Tu\n",
       "89713  N-085998-6  AG06296080907113637_v2.tif            Tu          Tu\n",
       "89714  G-036878-9  AC01397062306135648_v2.tif            Tu          Tu\n",
       "89715  V-115923-6  AH05379031706121403_v2.tif            -1          -1\n",
       "\n",
       "[89716 rows x 4 columns]"
      ]
     },
     "execution_count": 56,
     "metadata": {},
     "output_type": "execute_result"
    }
   ],
   "source": [
    "df = []\n",
    "for p in plco_metadata:\n",
    "    for e in p['accessions']:\n",
    "        for s in e['image_series']:\n",
    "            path = Path(s['path'])\n",
    "            filename = path.name\n",
    "            pid = p['pid']\n",
    "            \n",
    "            \n",
    "            if pid in patient_splits:\n",
    "                patient_split = list(patient_splits[pid])[0]\n",
    "            else:\n",
    "                patient_split = -1\n",
    "            \n",
    "            if filename in image_splits:\n",
    "                image_split = image_splits[filename]\n",
    "            else:\n",
    "                image_split = -1\n",
    "            \n",
    "            df.append({\n",
    "                'pid': p['pid'],\n",
    "                'filename': filename,\n",
    "                'patient_split': patient_split,\n",
    "                'image_split': image_split,\n",
    "            })\n",
    "            \n",
    "df = pd.DataFrame(df)\n",
    "df"
   ]
  },
  {
   "cell_type": "code",
   "execution_count": 50,
   "id": "0635bcb8",
   "metadata": {},
   "outputs": [
    {
     "data": {
      "text/plain": [
       "False"
      ]
     },
     "execution_count": 50,
     "metadata": {},
     "output_type": "execute_result"
    }
   ],
   "source": [
    "# are there any where the patient split and the image split disagree?\n",
    "((df.patient_split != df.image_split) & (~((df.patient_split == -1) | (df.image_split == -1))) ).any()"
   ]
  },
  {
   "cell_type": "code",
   "execution_count": 76,
   "id": "8781aaef",
   "metadata": {},
   "outputs": [
    {
     "data": {
      "text/plain": [
       "0"
      ]
     },
     "execution_count": 76,
     "metadata": {},
     "output_type": "execute_result"
    }
   ],
   "source": [
    "# number of patients we don't have\n",
    "(~patient_splits_df.plco_pid.isin(df.pid) ).sum()"
   ]
  },
  {
   "cell_type": "code",
   "execution_count": 84,
   "id": "2dd0033d",
   "metadata": {},
   "outputs": [
    {
     "data": {
      "text/plain": [
       "52581"
      ]
     },
     "execution_count": 84,
     "metadata": {},
     "output_type": "execute_result"
    }
   ],
   "source": [
    "# number of images we don't have\n",
    "(~image_splits_df.filename.isin(df.filename)).sum()"
   ]
  },
  {
   "cell_type": "code",
   "execution_count": 93,
   "id": "ee3ef149",
   "metadata": {},
   "outputs": [
    {
     "name": "stdout",
     "output_type": "stream",
     "text": [
      "Tr 37357\n",
      "Tu 9512\n",
      "Te 5712\n"
     ]
    }
   ],
   "source": [
    "# number of images we don't have, broken down by split\n",
    "print('Tr', (~image_splits_df.loc[image_splits_df.split == 'Tr'].filename.isin(df.filename)).sum() )\n",
    "print('Tu', (~image_splits_df.loc[image_splits_df.split == 'Tu'].filename.isin(df.filename)).sum() )\n",
    "print('Te', (~image_splits_df.loc[image_splits_df.split == 'Te'].filename.isin(df.filename)).sum() )"
   ]
  },
  {
   "cell_type": "code",
   "execution_count": 81,
   "id": "5b1121e0",
   "metadata": {},
   "outputs": [
    {
     "data": {
      "text/plain": [
       "1265"
      ]
     },
     "execution_count": 81,
     "metadata": {},
     "output_type": "execute_result"
    }
   ],
   "source": [
    "# number of patients we have extra\n",
    "( ~pd.Series(df.pid.unique()).isin(patient_splits_df.plco_pid) ).sum()"
   ]
  },
  {
   "cell_type": "code",
   "execution_count": 58,
   "id": "c3379e88",
   "metadata": {},
   "outputs": [
    {
     "data": {
      "text/plain": [
       "Counter({'Tr': 15245, 'Te': 4752, 'Tu': 3738, -1: 1265})"
      ]
     },
     "execution_count": 58,
     "metadata": {},
     "output_type": "execute_result"
    }
   ],
   "source": [
    "Counter(df.groupby('pid').patient_split.first())"
   ]
  },
  {
   "cell_type": "code",
   "execution_count": 85,
   "id": "aff44717",
   "metadata": {},
   "outputs": [
    {
     "data": {
      "text/plain": [
       "Counter({'Te': 4752, -1: 46085, 'Tr': 31168, 'Tu': 7711})"
      ]
     },
     "execution_count": 85,
     "metadata": {},
     "output_type": "execute_result"
    }
   ],
   "source": [
    "Counter(df.image_split)"
   ]
  },
  {
   "cell_type": "code",
   "execution_count": 88,
   "id": "b40683be",
   "metadata": {},
   "outputs": [
    {
     "data": {
      "text/plain": [
       "23735"
      ]
     },
     "execution_count": 88,
     "metadata": {},
     "output_type": "execute_result"
    }
   ],
   "source": [
    "patient_splits_df.plco_pid.nunique()"
   ]
  },
  {
   "cell_type": "code",
   "execution_count": null,
   "id": "c5ea75a9",
   "metadata": {},
   "outputs": [],
   "source": []
  },
  {
   "cell_type": "code",
   "execution_count": 211,
   "id": "3dd27d89",
   "metadata": {},
   "outputs": [
    {
     "data": {
      "text/plain": [
       "<matplotlib.image.AxesImage at 0x7f0df5db83d0>"
      ]
     },
     "execution_count": 211,
     "metadata": {},
     "output_type": "execute_result"
    },
    {
     "data": {
      "image/png": "[encoded data removed]",
      "text/plain": [
       "<Figure size 432x288 with 1 Axes>"
      ]
     },
     "metadata": {
      "needs_background": "light"
     },
     "output_type": "display_data"
    }
   ],
   "source": [
    "x = json.load(open(\"/Mounts/rbg-storage1/datasets/PLCO_XRAY/metadata_2022_03_10_rotated.json\",\"r\"))\n",
    "img_path = x[100]['accessions'][0]['image_series'][0]['path']\n",
    "img = cv2.imread(img_path, 0)\n",
    "plt.imshow(img, cmap=plt.cm.bone)"
   ]
  },
  {
   "cell_type": "code",
   "execution_count": 12,
   "id": "4a9f1061",
   "metadata": {},
   "outputs": [],
   "source": [
    "import pydicom"
   ]
  },
  {
   "cell_type": "code",
   "execution_count": 13,
   "id": "6a937935",
   "metadata": {},
   "outputs": [],
   "source": [
    "img = pydicom.dcmread('/Mounts/rbg-storage1/datasets/ACRIN_XRAY/NLST/2002-01__Studies/ _209191_CR_2002-01-01_100255_CHEST_CHEST_n1__00000/1.3.12.2.1107.5.4.4.01070.5.0.888752031864358.dcm')"
   ]
  },
  {
   "cell_type": "code",
   "execution_count": 19,
   "id": "b6fe8968",
   "metadata": {},
   "outputs": [
    {
     "data": {
      "text/plain": [
       "array([[1564, 1533, 1485, ..., 1458, 1412,    0],\n",
       "       [1566, 1516, 1477, ..., 1397, 1336,    0],\n",
       "       [1550, 1510, 1467, ..., 1332, 1272,    0],\n",
       "       ...,\n",
       "       [1012, 1006,  998, ...,  971,  898,    0],\n",
       "       [1014, 1007,  998, ...,  974,  898,    0],\n",
       "       [1014, 1007, 1003, ...,  973,  898,    0]], dtype=uint16)"
      ]
     },
     "execution_count": 19,
     "metadata": {},
     "output_type": "execute_result"
    }
   ],
   "source": [
    "img.pixel_array"
   ]
  },
  {
   "cell_type": "code",
   "execution_count": null,
   "id": "94d9f1d3",
   "metadata": {},
   "outputs": [],
   "source": []
  },
  {
   "cell_type": "code",
   "execution_count": null,
   "id": "595efd1e",
   "metadata": {},
   "outputs": [],
   "source": []
  }
 ],
 "metadata": {
  "kernelspec": {
   "display_name": "Python 3 (ipykernel)",
   "language": "python",
   "name": "python3"
  },
  "language_info": {
   "codemirror_mode": {
    "name": "ipython",
    "version": 3
   },
   "file_extension": ".py",
   "mimetype": "text/x-python",
   "name": "python",
   "nbconvert_exporter": "python",
   "pygments_lexer": "ipython3",
   "version": "3.8.5"
  }
 },
 "nbformat": 4,
 "nbformat_minor": 5
}
