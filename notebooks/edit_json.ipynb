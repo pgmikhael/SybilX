{
 "cells": [
  {
   "cell_type": "code",
   "execution_count": 1,
   "id": "25cbd88b",
   "metadata": {},
   "outputs": [],
   "source": [
    "import json\n",
    "from tqdm import tqdm"
   ]
  },
  {
   "cell_type": "code",
   "execution_count": 2,
   "id": "f9f89c43",
   "metadata": {},
   "outputs": [],
   "source": [
    "path = \"/Mounts/rbg-storage1/datasets/PLCO_XRAY/all_plco_xrays_json.json\""
   ]
  },
  {
   "cell_type": "code",
   "execution_count": 3,
   "id": "6f740d15",
   "metadata": {},
   "outputs": [],
   "source": [
    "metadata = json.load(open(path, 'rb'))"
   ]
  },
  {
   "cell_type": "code",
   "execution_count": 4,
   "id": "48be004a",
   "metadata": {},
   "outputs": [
    {
     "name": "stderr",
     "output_type": "stream",
     "text": [
      "100%|████████████████████████████████████████████████████████████████████████████████████████████████████████████████████████████████████████████████████████████████████| 56213/56213 [00:00<00:00, 384731.79it/s]\n"
     ]
    }
   ],
   "source": [
    "for sample in tqdm(metadata):\n",
    "    for accession in sample['accessions']:\n",
    "        for image_series in accession['image_series']:\n",
    "            image_series['path'] = image_series['path'].replace(\"allxrays\", \"allxrays_rotated\")"
   ]
  },
  {
   "cell_type": "code",
   "execution_count": 5,
   "id": "bc918c83",
   "metadata": {},
   "outputs": [],
   "source": [
    "write_path = \"/Mounts/rbg-storage1/datasets/PLCO_XRAY/all_plco_xrays_rotated_json.json\"\n",
    "json.dump(metadata, open(write_path, \"w\"))"
   ]
  },
  {
   "cell_type": "code",
   "execution_count": 6,
   "id": "1fa628f0",
   "metadata": {},
   "outputs": [],
   "source": [
    "new_metadata = json.load(open(write_path, 'rb'))"
   ]
  },
  {
   "cell_type": "code",
   "execution_count": 7,
   "id": "7b17f993",
   "metadata": {},
   "outputs": [
    {
     "data": {
      "text/plain": [
       "56213"
      ]
     },
     "execution_count": 7,
     "metadata": {},
     "output_type": "execute_result"
    }
   ],
   "source": [
    "len(new_metadata)"
   ]
  },
  {
   "cell_type": "code",
   "execution_count": 8,
   "id": "34e8fe5c",
   "metadata": {},
   "outputs": [
    {
     "data": {
      "text/plain": [
       "'/Mounts/rbg-storage1/datasets/PLCO_XRAY/allxrays_rotated/AH04082092107142739_v2.tif'"
      ]
     },
     "execution_count": 8,
     "metadata": {},
     "output_type": "execute_result"
    }
   ],
   "source": [
    "new_metadata[0]['accessions'][0]['image_series'][0]['path']"
   ]
  },
  {
   "cell_type": "code",
   "execution_count": null,
   "id": "0114eb6c",
   "metadata": {},
   "outputs": [],
   "source": []
  }
 ],
 "metadata": {
  "kernelspec": {
   "display_name": "Python [conda env:sybilx] *",
   "language": "python",
   "name": "conda-env-sybilx-py"
  },
  "language_info": {
   "codemirror_mode": {
    "name": "ipython",
    "version": 3
   },
   "file_extension": ".py",
   "mimetype": "text/x-python",
   "name": "python",
   "nbconvert_exporter": "python",
   "pygments_lexer": "ipython3",
   "version": "3.8.5"
  }
 },
 "nbformat": 4,
 "nbformat_minor": 5
}
